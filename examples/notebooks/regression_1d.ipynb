{
 "cells": [
  {
   "cell_type": "markdown",
   "metadata": {},
   "source": [
    "# GP Regression Demo\n",
    "This demonstration covers the basics of a supervised learning problem with gptorch:\n",
    "* Defining a model\n",
    "* Training the model\n",
    "* Predicting with the model"
   ]
  },
  {
   "cell_type": "code",
   "execution_count": 1,
   "metadata": {},
   "outputs": [],
   "source": [
    "import matplotlib.pyplot as plt\n",
    "import numpy as np\n",
    "\n",
    "np.random.seed(42)"
   ]
  },
  {
   "cell_type": "code",
   "execution_count": 2,
   "metadata": {},
   "outputs": [],
   "source": [
    "from gptorch.models.gpr import GPR\n",
    "from gptorch.models.sparse_gpr import VFE\n",
    "from gptorch import kernels\n",
    "from gptorch.util import TensorType\n",
    "from gptorch import mean_functions"
   ]
  },
  {
   "cell_type": "code",
   "execution_count": 3,
   "metadata": {},
   "outputs": [],
   "source": [
    "from gptorch import kernels"
   ]
  },
  {
   "cell_type": "markdown",
   "metadata": {},
   "source": [
    "## Ground truth and training data\n",
    "We'll try to model a simple one-dimensional sinusoid."
   ]
  },
  {
   "cell_type": "code",
   "execution_count": 4,
   "metadata": {},
   "outputs": [],
   "source": [
    "def f(x):\n",
    "    return np.sin(2. * np.pi * x) + np.cos(3.5 * np.pi * x) - 3.0 * x"
   ]
  },
  {
   "cell_type": "code",
   "execution_count": 5,
   "metadata": {},
   "outputs": [],
   "source": [
    "n = 100\n",
    "x = np.linspace(0, 1, n).reshape((-1, 1))\n",
    "y = f(x) + 0.1 * np.random.randn(n, 1)"
   ]
  },
  {
   "cell_type": "markdown",
   "metadata": {},
   "source": [
    "## Model definition\n",
    "Here, we define the GP model.\n",
    "\n",
    "We can use a simple vanilla GP or a sparse GP."
   ]
  },
  {
   "cell_type": "code",
   "execution_count": 6,
   "metadata": {},
   "outputs": [],
   "source": [
    "# Try different kernels...\n",
    "kern = kernels.Rbf(1)\n",
    "# kern = kernels.Matern32(1)\n",
    "# kern = kernels.Sum(kernels.Linear(1), kernels.Rbf(1))"
   ]
  },
  {
   "cell_type": "code",
   "execution_count": 7,
   "metadata": {},
   "outputs": [],
   "source": [
    "# Try different models:\n",
    "# model = GPR(y, x, kern)\n",
    "model = VFE(y, x, kern)\n",
    "model.likelihood.variance.data = TensorType([1.0e-6])"
   ]
  },
  {
   "cell_type": "markdown",
   "metadata": {},
   "source": [
    "## Train the model"
   ]
  },
  {
   "cell_type": "code",
   "execution_count": 8,
   "metadata": {},
   "outputs": [
    {
     "name": "stdout",
     "output_type": "stream",
     "text": [
      "Scipy.optimize.minimize...\n",
      "loss: [127.72682963]\n",
      "loss: [98.2775115]\n",
      "loss: [86.0911087]\n",
      "loss: [1082.40937159]\n",
      "loss: [25.60579679]\n",
      "loss: [8.11009623]\n",
      "loss: [0.98714958]\n",
      "loss: [-22.14326215]\n",
      "loss: [118.53298101]\n",
      "loss: [-29.05887398]\n",
      "loss: [-28.19982696]\n",
      "loss: [60138157.94438419]\n",
      "loss: [7725.12626572]\n",
      "loss: [-46.31520776]\n",
      "loss: [161.57794007]\n",
      "loss: [-44.43528757]\n",
      "loss: [-47.4630549]\n",
      "loss: [-45.77572232]\n",
      "loss: [-52.9730796]\n",
      "loss: [-58.50155605]\n",
      "loss: [-64.10832357]\n",
      "loss: [-15.25226677]\n",
      "loss: [-65.33294307]\n",
      "loss: [-67.03020818]\n",
      "loss: [-68.04930363]\n",
      "loss: [-68.75145556]\n",
      "loss: [-69.02683764]\n",
      "loss: [-69.28658891]\n",
      "loss: [-69.5638607]\n",
      "loss: [-69.73860165]\n",
      "loss: [-69.7599324]\n",
      "loss: [-69.76297259]\n",
      "loss: [-69.7737053]\n",
      "loss: [-69.78454878]\n",
      "loss: [-69.80294157]\n",
      "loss: [-69.82552046]\n",
      "loss: [-69.85297682]\n",
      "loss: [-69.80385004]\n",
      "loss: [-69.86478393]\n",
      "loss: [-69.87832318]\n",
      "loss: [-69.90806406]\n",
      "loss: [-69.96010418]\n",
      "loss: [-70.02626807]\n",
      "loss: [-70.06851649]\n",
      "loss: [-70.09897129]\n",
      "loss: [-70.12150916]\n",
      "loss: [-70.14964101]\n",
      "loss: [-70.17485444]\n",
      "loss: [-70.17395744]\n",
      "loss: [-70.20748245]\n",
      "loss: [-70.2140573]\n",
      "loss: [-70.2271757]\n",
      "loss: [-70.23442712]\n",
      "loss: [-70.23841457]\n",
      "loss: [-70.24087843]\n",
      "loss: [-70.24404035]\n",
      "loss: [-70.24889869]\n",
      "loss: [-70.21251262]\n",
      "loss: [-70.25035869]\n",
      "loss: [-70.25756703]\n",
      "loss: [-70.26069573]\n",
      "loss: [-70.2626382]\n",
      "loss: [-70.26328905]\n",
      "loss: [-70.26399149]\n",
      "loss: [-70.26429289]\n",
      "loss: [-70.26470906]\n",
      "loss: [-70.26495162]\n",
      "loss: [-70.26501606]\n",
      "loss: [-70.26503771]\n",
      "loss: [-70.26506456]\n",
      "loss: [-70.26510106]\n",
      "loss: [-70.26512321]\n",
      "loss: [-70.26514858]\n",
      "loss: [-70.26518048]\n",
      "loss: [-70.26529397]\n",
      "loss: [-70.26539843]\n",
      "loss: [-70.26548559]\n",
      "loss: [-70.2655642]\n",
      "loss: [-70.26563826]\n",
      "loss: [-70.26569155]\n",
      "loss: [-70.26571374]\n",
      "loss: [-70.26551287]\n",
      "loss: [-70.26572988]\n",
      "loss: [-70.26576078]\n",
      "loss: [-70.26578872]\n",
      "loss: [-70.26580229]\n",
      "loss: [-70.26580986]\n",
      "loss: [-70.26581346]\n",
      "loss: [-70.26581402]\n",
      "loss: [-70.26581503]\n",
      "loss: [-70.2658156]\n",
      "loss: [-70.26581623]\n",
      "loss: [-70.2658167]\n",
      "loss: [-70.26581699]\n",
      "loss: [-70.26581724]\n",
      "loss: [-70.26581743]\n",
      "loss: [-70.26581756]\n",
      "Trained model:\n",
      "variational_gp (\n",
      "jitter\n",
      "\n",
      "1.00000e-11 *\n",
      "  6.8776\n",
      "[torch.DoubleTensor of size 1]\n",
      "\n",
      "Z\n",
      "\n",
      " 0.5394\n",
      " 0.9066\n",
      " 0.1564\n",
      " 0.6706\n",
      " 0.0588\n",
      " 0.4062\n",
      " 0.9840\n",
      " 0.0046\n",
      " 0.7959\n",
      " 0.2765\n",
      "[torch.DoubleTensor of size 10x1]\n",
      "\n",
      "  (kernel): Rbf (\n",
      "  variance\n",
      "  \n",
      "   5.1487\n",
      "  [torch.DoubleTensor of size 1]\n",
      "  \n",
      "  length_scales\n",
      "  \n",
      "   0.2340\n",
      "  [torch.DoubleTensor of size 1]\n",
      "  \n",
      "  )\n",
      "  \n",
      "  (likelihood): Gaussian (\n",
      "  variance\n",
      "  \n",
      "  1.00000e-03 *\n",
      "    8.2532\n",
      "  [torch.DoubleTensor of size 1]\n",
      "  \n",
      "  )\n",
      "  \n",
      ")\n",
      "\n"
     ]
    }
   ],
   "source": [
    "# Train\n",
    "model.optimize(method=\"L-BFGS-B\", max_iter=100)\n",
    "print(\"Trained model:\")\n",
    "print(model)"
   ]
  },
  {
   "cell_type": "markdown",
   "metadata": {},
   "source": [
    "## Predict"
   ]
  },
  {
   "cell_type": "code",
   "execution_count": 9,
   "metadata": {},
   "outputs": [],
   "source": [
    "# Predict\n",
    "n_test = 200\n",
    "n_samples = 5\n",
    "x_test = np.linspace(-1, 2, n_test).reshape((-1, 1))\n",
    "mu, s = model.predict_y(x_test)\n",
    "mu, s = mu.data.numpy().flatten(), s.data.numpy().flatten()\n",
    "y_samp = model.predict_y_samples(x_test, n_samples).data.numpy()\n",
    "unc = 2.0 * np.sqrt(s)"
   ]
  },
  {
   "cell_type": "code",
   "execution_count": 10,
   "metadata": {},
   "outputs": [
    {
     "data": {
      "image/png": "[encoded data removed]",
      "text/plain": [
       "<Figure size 432x288 with 1 Axes>"
      ]
     },
     "metadata": {
      "needs_background": "light"
     },
     "output_type": "display_data"
    }
   ],
   "source": [
    "# Show prediction\n",
    "x_test = x_test.flatten()\n",
    "plt.figure()\n",
    "plt.fill_between(x_test, mu - unc, mu + unc, color=(0.9,) * 3)\n",
    "plt.plot(x_test, mu)\n",
    "plt.plot(x_test, f(x_test))\n",
    "for y_samp_i in y_samp:\n",
    "    plt.plot(x_test, y_samp_i, color=(0.4, 0.7, 1.0), alpha=0.5)\n",
    "plt.plot(x, y, 'o')\n",
    "plt.show()"
   ]
  }
 ],
 "metadata": {
  "kernelspec": {
   "display_name": "gptorch",
   "language": "python",
   "name": "gptorch"
  },
  "language_info": {
   "codemirror_mode": {
    "name": "ipython",
    "version": 3
   },
   "file_extension": ".py",
   "mimetype": "text/x-python",
   "name": "python",
   "nbconvert_exporter": "python",
   "pygments_lexer": "ipython3",
   "version": "3.6.8"
  }
 },
 "nbformat": 4,
 "nbformat_minor": 2
}
