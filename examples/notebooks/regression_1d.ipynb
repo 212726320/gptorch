{
 "cells": [
  {
   "cell_type": "markdown",
   "metadata": {},
   "source": [
    "# GP Regression Demo\n",
    "This demonstration covers the basics of a supervised learning problem with gptorch:\n",
    "* Defining a model\n",
    "* Training the model\n",
    "* Predicting with the model"
   ]
  },
  {
   "cell_type": "code",
   "execution_count": 1,
   "metadata": {},
   "outputs": [
    {
     "data": {
      "text/plain": [
       "<torch._C.Generator at 0x7f2c6c93e990>"
      ]
     },
     "execution_count": 1,
     "metadata": {},
     "output_type": "execute_result"
    }
   ],
   "source": [
    "import matplotlib.pyplot as plt\n",
    "import numpy as np\n",
    "import torch\n",
    "\n",
    "np.random.seed(42)\n",
    "torch.manual_seed(42)"
   ]
  },
  {
   "cell_type": "code",
   "execution_count": 2,
   "metadata": {
    "scrolled": true
   },
   "outputs": [],
   "source": [
    "from gptorch.models.gpr import GPR\n",
    "from gptorch.models.sparse_gpr import VFE\n",
    "from gptorch import kernels\n",
    "from gptorch.util import TensorType"
   ]
  },
  {
   "cell_type": "code",
   "execution_count": 3,
   "metadata": {},
   "outputs": [],
   "source": [
    "from gptorch import kernels"
   ]
  },
  {
   "cell_type": "markdown",
   "metadata": {},
   "source": [
    "## Ground truth and training data\n",
    "We'll try to model a simple one-dimensional sinusoid."
   ]
  },
  {
   "cell_type": "code",
   "execution_count": 4,
   "metadata": {},
   "outputs": [],
   "source": [
    "def f(x):\n",
    "    return np.sin(2. * np.pi * x) + np.cos(3.5 * np.pi * x) - 3.0 * x + 5.0"
   ]
  },
  {
   "cell_type": "code",
   "execution_count": 5,
   "metadata": {},
   "outputs": [],
   "source": [
    "n = 100\n",
    "x = np.linspace(0, 1, n).reshape((-1, 1))\n",
    "y = f(x) + 0.1 * np.random.randn(n, 1)"
   ]
  },
  {
   "cell_type": "markdown",
   "metadata": {},
   "source": [
    "## Model definition\n",
    "Here, we define the GP model.\n",
    "The API is the same for exact or sparse GPs.\n",
    "\n",
    "The main components of a GP model are:\n",
    "* The mean function\n",
    "* The kernel\n",
    "* The likelihood"
   ]
  },
  {
   "cell_type": "code",
   "execution_count": 6,
   "metadata": {},
   "outputs": [],
   "source": [
    "# Kernel\n",
    "\n",
    "# kern = kernels.Rbf(1)\n",
    "# kern = kernels.Matern32(1)\n",
    "kern = kernels.Linear(1) + kernels.Rbf(1) + kernels.Constant(1)"
   ]
  },
  {
   "cell_type": "code",
   "execution_count": 7,
   "metadata": {},
   "outputs": [],
   "source": [
    "# Mean function\n",
    "mean_function = torch.nn.Linear(1, 1)  # Or any other PyTorch module!"
   ]
  },
  {
   "cell_type": "code",
   "execution_count": 8,
   "metadata": {},
   "outputs": [],
   "source": [
    "# (Likelihood defaults to Gaussian)"
   ]
  },
  {
   "cell_type": "code",
   "execution_count": 9,
   "metadata": {},
   "outputs": [],
   "source": [
    "# Try different models:\n",
    "model = GPR(y, x, kern, mean_function=mean_function)\n",
    "# model = VFE(y, x, kern)"
   ]
  },
  {
   "cell_type": "markdown",
   "metadata": {},
   "source": [
    "## Train the model"
   ]
  },
  {
   "cell_type": "code",
   "execution_count": 10,
   "metadata": {
    "scrolled": true
   },
   "outputs": [
    {
     "name": "stdout",
     "output_type": "stream",
     "text": [
      "Scipy.optimize.minimize...\n",
      "loss: [125.14461833]\n",
      "loss: [100.32476456]\n",
      "loss: [97.53899962]\n",
      "loss: [95.74286434]\n",
      "loss: [91.55895604]\n",
      "loss: [77.67898473]\n",
      "loss: [71.07083834]\n",
      "loss: [69.49772267]\n",
      "loss: [68.58179498]\n",
      "loss: [282.84580193]\n",
      "loss: [70.61279463]\n",
      "loss: [68.19996815]\n",
      "loss: [58.14214006]\n",
      "loss: [18.76301093]\n",
      "loss: [-53.95965047]\n",
      "loss: [-48.37072941]\n",
      "loss: [4453.75048164]\n",
      "loss: [-64.17724549]\n",
      "loss: [-67.24641811]\n",
      "loss: [-68.37127251]\n",
      "loss: [-68.49538123]\n",
      "loss: [-68.58934855]\n",
      "loss: [-68.90928314]\n",
      "loss: [-69.06602483]\n",
      "loss: [-69.14116451]\n",
      "loss: [-69.19388136]\n",
      "loss: [-69.31221346]\n",
      "loss: [-69.43244324]\n",
      "loss: [-69.57829404]\n",
      "loss: [-69.69625028]\n",
      "loss: [-69.70132773]\n",
      "loss: [-69.72253621]\n",
      "loss: [-69.62554444]\n",
      "loss: [-69.76023683]\n",
      "loss: [-69.84957461]\n",
      "loss: [-70.03955286]\n",
      "loss: [-70.27736477]\n",
      "loss: [-70.50344002]\n",
      "loss: [-70.70520667]\n",
      "loss: [-70.6867204]\n",
      "loss: [-70.83468375]\n",
      "loss: [-70.91452454]\n",
      "loss: [-70.96258766]\n",
      "loss: [-70.9817702]\n",
      "loss: [-70.97024372]\n",
      "loss: [-70.98977978]\n",
      "loss: [-71.00379439]\n",
      "loss: [-71.00882387]\n",
      "loss: [-71.00938619]\n",
      "loss: [-71.00943719]\n",
      "loss: [-71.00952206]\n",
      "loss: [-71.00997149]\n",
      "loss: [-71.01085656]\n",
      "loss: [-71.01303254]\n",
      "loss: [-71.01681526]\n",
      "loss: [-71.01153521]\n",
      "loss: [-71.01991012]\n",
      "loss: [-71.02467216]\n",
      "loss: [-71.02813862]\n",
      "loss: [-71.02859601]\n",
      "loss: [-71.02673364]\n",
      "loss: [-71.02863344]\n",
      "loss: [-71.02885812]\n",
      "loss: [-71.02885656]\n",
      "loss: [-71.02896928]\n",
      "loss: [-71.02921092]\n",
      "loss: [-71.02929223]\n",
      "loss: [-71.02936615]\n",
      "loss: [-71.02946077]\n",
      "loss: [-71.0295181]\n",
      "loss: [-71.02445694]\n",
      "loss: [-71.02952033]\n",
      "loss: [-71.02952744]\n",
      "loss: [-71.0295305]\n",
      "loss: [-71.02951679]\n",
      "loss: [-71.02953128]\n",
      "loss: [-71.02953598]\n",
      "loss: [-71.02953886]\n",
      "loss: [-71.02953766]\n",
      "loss: [-71.02953938]\n",
      "loss: [-71.02954075]\n",
      "loss: [-71.02954123]\n",
      "loss: [-71.02954147]\n",
      "loss: [-71.02954169]\n",
      "loss: [-71.02953616]\n",
      "loss: [-71.02954169]\n",
      "Trained model:\n",
      "gpr (\n",
      "  (kernel): Sum (\n",
      "    (kern1): Sum (\n",
      "      (kern1): Linear (\n",
      "      variance\n",
      "      tensor([6.1219e-07])\n",
      "      )\n",
      "      \n",
      "      (kern2): Rbf (\n",
      "      variance\n",
      "      tensor([2.9491])\n",
      "      length_scales\n",
      "      tensor([0.2143])\n",
      "      )\n",
      "      \n",
      "    )\n",
      "    \n",
      "    (kern2): Constant (\n",
      "    variance\n",
      "    tensor([5.6885e-15])\n",
      "    )\n",
      "    \n",
      "  )\n",
      "  \n",
      "  (likelihood): Gaussian (\n",
      "  variance\n",
      "  tensor([0.0083])\n",
      "  )\n",
      "  \n",
      "  (mean_function): Linear(in_features=1, out_features=1, bias=True)\n",
      ")\n",
      "\n"
     ]
    }
   ],
   "source": [
    "# Train\n",
    "model.optimize(method=\"L-BFGS-B\", max_iter=100)\n",
    "print(\"Trained model:\")\n",
    "print(model)"
   ]
  },
  {
   "cell_type": "markdown",
   "metadata": {},
   "source": [
    "## Predict"
   ]
  },
  {
   "cell_type": "code",
   "execution_count": 11,
   "metadata": {},
   "outputs": [],
   "source": [
    "# Predict\n",
    "n_test = 200\n",
    "n_samples = 5\n",
    "x_test = np.linspace(-1, 2, n_test).reshape((-1, 1))\n",
    "mu, s = model.predict_y(x_test)\n",
    "mu, s = mu.data.numpy().flatten(), s.data.numpy().flatten()\n",
    "y_samp = model.predict_y_samples(x_test, n_samples).data.numpy()\n",
    "unc = 2.0 * np.sqrt(s)"
   ]
  },
  {
   "cell_type": "code",
   "execution_count": 12,
   "metadata": {},
   "outputs": [
    {
     "data": {
      "image/png": "[encoded data removed]",
      "text/plain": [
       "<Figure size 432x288 with 1 Axes>"
      ]
     },
     "metadata": {
      "needs_background": "light"
     },
     "output_type": "display_data"
    }
   ],
   "source": [
    "# Show prediction\n",
    "x_test = x_test.flatten()\n",
    "plt.figure()\n",
    "plt.fill_between(x_test, mu - unc, mu + unc, color=(0.9,) * 3)\n",
    "plt.plot(x_test, mu)\n",
    "plt.plot(x_test, f(x_test))\n",
    "for y_samp_i in y_samp:\n",
    "    plt.plot(x_test, y_samp_i, color=(0.4, 0.7, 1.0), alpha=0.5)\n",
    "plt.plot(x, y, 'o')\n",
    "plt.show()"
   ]
  }
 ],
 "metadata": {
  "kernelspec": {
   "display_name": "gptorch",
   "language": "python",
   "name": "gptorch"
  },
  "language_info": {
   "codemirror_mode": {
    "name": "ipython",
    "version": 3
   },
   "file_extension": ".py",
   "mimetype": "text/x-python",
   "name": "python",
   "nbconvert_exporter": "python",
   "pygments_lexer": "ipython3",
   "version": "3.6.8"
  }
 },
 "nbformat": 4,
 "nbformat_minor": 2
}
