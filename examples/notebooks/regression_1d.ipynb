{
 "cells": [
  {
   "cell_type": "markdown",
   "metadata": {},
   "source": [
    "# GP Regression Demo\n",
    "This demonstration covers the basics of a supervised learning problem with gptorch:\n",
    "* Defining a model\n",
    "* Training the model\n",
    "* Predicting with the model"
   ]
  },
  {
   "cell_type": "code",
   "execution_count": 1,
   "metadata": {},
   "outputs": [],
   "source": [
    "import matplotlib.pyplot as plt\n",
    "import numpy as np\n",
    "\n",
    "np.random.seed(42)"
   ]
  },
  {
   "cell_type": "code",
   "execution_count": 2,
   "metadata": {},
   "outputs": [],
   "source": [
    "from gptorch.models.gpr import GPR\n",
    "from gptorch.models.sparse_gpr import VFE\n",
    "from gptorch import kernels\n",
    "from gptorch.util import TensorType\n",
    "from gptorch import mean_functions"
   ]
  },
  {
   "cell_type": "code",
   "execution_count": 3,
   "metadata": {},
   "outputs": [],
   "source": [
    "from gptorch import kernels"
   ]
  },
  {
   "cell_type": "markdown",
   "metadata": {},
   "source": [
    "## Ground truth and training data\n",
    "We'll try to model a simple one-dimensional sinusoid."
   ]
  },
  {
   "cell_type": "code",
   "execution_count": 4,
   "metadata": {},
   "outputs": [],
   "source": [
    "def f(x):\n",
    "    return np.sin(2. * np.pi * x) + np.cos(3.5 * np.pi * x) - 3.0 * x + 5.0"
   ]
  },
  {
   "cell_type": "code",
   "execution_count": 5,
   "metadata": {},
   "outputs": [],
   "source": [
    "n = 100\n",
    "x = np.linspace(0, 1, n).reshape((-1, 1))\n",
    "y = f(x) + 0.1 * np.random.randn(n, 1)"
   ]
  },
  {
   "cell_type": "markdown",
   "metadata": {},
   "source": [
    "## Model definition\n",
    "Here, we define the GP model.\n",
    "\n",
    "We can use a simple vanilla GP or a sparse GP."
   ]
  },
  {
   "cell_type": "code",
   "execution_count": 6,
   "metadata": {},
   "outputs": [],
   "source": [
    "# Try different kernels...\n",
    "# kern = kernels.Rbf(1)\n",
    "# kern = kernels.Matern32(1)\n",
    "kern = kernels.Linear(1) + kernels.Rbf(1) + kernels.Constant(1)"
   ]
  },
  {
   "cell_type": "code",
   "execution_count": 7,
   "metadata": {},
   "outputs": [
    {
     "name": "stdout",
     "output_type": "stream",
     "text": [
      "Inducing points:\n",
      "[[0.06060606]\n",
      " [0.28787879]\n",
      " [0.37373737]\n",
      " [0.18181818]\n",
      " [0.43939394]\n",
      " [0.7979798 ]\n",
      " [0.93434343]\n",
      " [0.58585859]\n",
      " [0.68181818]\n",
      " [0.50505051]]\n"
     ]
    }
   ],
   "source": [
    "# Try different models:\n",
    "# model = GPR(y, x, kern)\n",
    "model = VFE(y, x, kern)\n",
    "model.likelihood.variance.data = TensorType([1.0e-6])"
   ]
  },
  {
   "cell_type": "markdown",
   "metadata": {},
   "source": [
    "## Train the model"
   ]
  },
  {
   "cell_type": "code",
   "execution_count": 8,
   "metadata": {},
   "outputs": [
    {
     "name": "stdout",
     "output_type": "stream",
     "text": [
      "Scipy.optimize.minimize...\n",
      "loss: [124.51787035]\n",
      "loss: [99.61121948]\n",
      "loss: [96.71216188]\n",
      "loss: [90.88831524]\n",
      "loss: [58.33767014]\n",
      "loss: [55.50233804]\n",
      "loss: [1.48023954e+20]\n",
      "loss: [2.63194475e+08]\n",
      "loss: [31081.29557332]\n",
      "loss: [83.45459724]\n",
      "loss: [55.57673503]\n",
      "loss: [55.04979703]\n",
      "loss: [52.29920714]\n",
      "loss: [41.39427135]\n",
      "loss: [-0.29957183]\n",
      "loss: [16.91521322]\n",
      "loss: [-62.99354116]\n",
      "loss: [7139.34852889]\n",
      "loss: [-64.73185849]\n",
      "loss: [-66.27379356]\n",
      "loss: [-64.81824602]\n",
      "loss: [-66.37833994]\n",
      "loss: [-67.33440715]\n",
      "loss: [-67.4399201]\n",
      "loss: [-67.51481697]\n",
      "loss: [-67.65728062]\n",
      "loss: [-67.8935304]\n",
      "loss: [-68.41567477]\n",
      "loss: [51.75660775]\n",
      "loss: [-68.45305462]\n",
      "loss: [-68.61096053]\n",
      "loss: [-68.84487818]\n",
      "loss: [-68.91767537]\n",
      "loss: [-69.01425714]\n",
      "loss: [-69.0381912]\n",
      "loss: [-69.05694132]\n",
      "loss: [-69.06449688]\n",
      "loss: [-69.06746817]\n",
      "loss: [-69.06898693]\n",
      "loss: [-69.07103528]\n",
      "loss: [-69.07683349]\n",
      "loss: [-69.08392541]\n",
      "loss: [-69.09666827]\n",
      "loss: [-69.12674674]\n",
      "loss: [-69.16744494]\n",
      "loss: [-61.23623311]\n",
      "loss: [-69.19898637]\n",
      "loss: [-69.21668695]\n",
      "loss: [-69.21936988]\n",
      "loss: [-69.22301102]\n",
      "loss: [-69.23317562]\n",
      "loss: [-69.23562621]\n",
      "loss: [-69.23727474]\n",
      "loss: [-69.23819]\n",
      "loss: [-69.23882785]\n",
      "loss: [-69.23973298]\n",
      "loss: [-69.24103283]\n",
      "loss: [-69.24244667]\n",
      "loss: [-69.24380146]\n",
      "loss: [-69.24624193]\n",
      "loss: [-69.25050363]\n",
      "loss: [-69.26180219]\n",
      "loss: [-69.27384661]\n",
      "loss: [-69.28401843]\n",
      "loss: [-69.28912909]\n",
      "loss: [-69.29160801]\n",
      "loss: [-69.29753391]\n",
      "loss: [-69.30008829]\n",
      "loss: [-69.30176018]\n",
      "loss: [-69.30232672]\n",
      "loss: [-69.30296801]\n",
      "loss: [-69.30377805]\n",
      "loss: [-69.30427345]\n",
      "loss: [-69.30404079]\n",
      "loss: [-69.30436762]\n",
      "loss: [-69.30444966]\n",
      "loss: [-69.30449735]\n",
      "loss: [-69.30454445]\n",
      "loss: [-69.3046662]\n",
      "loss: [-69.30482059]\n",
      "loss: [-69.30422195]\n",
      "loss: [-69.30489573]\n",
      "loss: [-69.30501266]\n",
      "loss: [-69.30504304]\n",
      "loss: [-69.30506651]\n",
      "loss: [-69.30505602]\n",
      "loss: [-69.30507533]\n",
      "loss: [-69.30507889]\n",
      "loss: [-69.30508424]\n",
      "loss: [-69.30508564]\n",
      "loss: [-69.30508774]\n",
      "loss: [-69.30509066]\n",
      "loss: [-69.30509499]\n",
      "loss: [-69.30510132]\n",
      "loss: [-69.30510739]\n",
      "loss: [-69.30511269]\n",
      "loss: [-69.30511874]\n",
      "loss: [-69.30512353]\n",
      "loss: [-69.3051283]\n",
      "loss: [-69.30513292]\n",
      "loss: [-69.30513726]\n",
      "loss: [-69.30514071]\n",
      "loss: [-69.30514471]\n",
      "loss: [-69.30514753]\n",
      "loss: [-69.30515126]\n",
      "loss: [-69.30516127]\n",
      "loss: [-69.3051648]\n",
      "loss: [-69.30516801]\n",
      "loss: [-69.30517095]\n",
      "loss: [-69.30517426]\n",
      "loss: [-69.30517528]\n",
      "loss: [-69.30517699]\n",
      "loss: [-69.30517728]\n",
      "loss: [-69.30517858]\n",
      "loss: [-69.3051789]\n",
      "loss: [-69.30517918]\n",
      "loss: [-69.30517964]\n",
      "loss: [-69.30517936]\n",
      "loss: [-69.30517972]\n",
      "Trained model:\n",
      "gp (\n",
      "Z\n",
      "tensor([[0.0011],\n",
      "        [0.1588],\n",
      "        [0.2797],\n",
      "        [0.0583],\n",
      "        [0.4092],\n",
      "        [0.9846],\n",
      "        [0.7968],\n",
      "        [0.9075],\n",
      "        [0.6718],\n",
      "        [0.5414]])\n",
      "  (kernel): Sum (\n",
      "    (kern1): Sum (\n",
      "      (kern1): Linear (\n",
      "      variance\n",
      "      tensor([3.3981e-05])\n",
      "      )\n",
      "      \n",
      "      (kern2): Rbf (\n",
      "      variance\n",
      "      tensor([5.7196])\n",
      "      length_scales\n",
      "      tensor([0.2367])\n",
      "      )\n",
      "      \n",
      "    )\n",
      "    \n",
      "    (kern2): Constant (\n",
      "    variance\n",
      "    tensor([10.9859])\n",
      "    )\n",
      "    \n",
      "  )\n",
      "  \n",
      "  (likelihood): Gaussian (\n",
      "  variance\n",
      "  tensor([0.0082])\n",
      "  )\n",
      "  \n",
      ")\n",
      "\n"
     ]
    }
   ],
   "source": [
    "# Train\n",
    "model.optimize(method=\"L-BFGS-B\", max_iter=100)\n",
    "print(\"Trained model:\")\n",
    "print(model)"
   ]
  },
  {
   "cell_type": "markdown",
   "metadata": {},
   "source": [
    "## Predict"
   ]
  },
  {
   "cell_type": "code",
   "execution_count": 9,
   "metadata": {},
   "outputs": [],
   "source": [
    "# Predict\n",
    "n_test = 200\n",
    "n_samples = 5\n",
    "x_test = np.linspace(-1, 2, n_test).reshape((-1, 1))\n",
    "mu, s = model.predict_y(x_test)\n",
    "mu, s = mu.data.numpy().flatten(), s.data.numpy().flatten()\n",
    "y_samp = model.predict_y_samples(x_test, n_samples=n_samples).data.numpy()\n",
    "unc = 2.0 * np.sqrt(s)"
   ]
  },
  {
   "cell_type": "code",
   "execution_count": 10,
   "metadata": {},
   "outputs": [
    {
     "data": {
      "image/png": "[encoded data removed]",
      "text/plain": [
       "<Figure size 432x288 with 1 Axes>"
      ]
     },
     "metadata": {
      "needs_background": "light"
     },
     "output_type": "display_data"
    }
   ],
   "source": [
    "# Show prediction\n",
    "x_test = x_test.flatten()\n",
    "plt.figure()\n",
    "plt.fill_between(x_test, mu - unc, mu + unc, color=(0.9,) * 3)\n",
    "plt.plot(x_test, mu)\n",
    "plt.plot(x_test, f(x_test))\n",
    "for y_samp_i in y_samp:\n",
    "    plt.plot(x_test, y_samp_i, color=(0.4, 0.7, 1.0), alpha=0.5)\n",
    "plt.plot(x, y, 'o')\n",
    "plt.show()"
   ]
  }
 ],
 "metadata": {
  "kernelspec": {
   "display_name": "gptorch",
   "language": "python",
   "name": "gptorch"
  },
  "language_info": {
   "codemirror_mode": {
    "name": "ipython",
    "version": 3
   },
   "file_extension": ".py",
   "mimetype": "text/x-python",
   "name": "python",
   "nbconvert_exporter": "python",
   "pygments_lexer": "ipython3",
   "version": "3.6.8"
  }
 },
 "nbformat": 4,
 "nbformat_minor": 2
}
