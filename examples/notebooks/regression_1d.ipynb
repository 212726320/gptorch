{
 "cells": [
  {
   "cell_type": "markdown",
   "metadata": {},
   "source": [
    "# GP Regression Demo\n",
    "This demonstration covers the basics of a supervised learning problem with gptorch:\n",
    "* Defining a model\n",
    "* Training the model\n",
    "* Predicting with the model"
   ]
  },
  {
   "cell_type": "code",
   "execution_count": 1,
   "metadata": {},
   "outputs": [
    {
     "data": {
      "text/plain": [
       "<torch._C.Generator at 0x7f25cfbc19d0>"
      ]
     },
     "execution_count": 1,
     "metadata": {},
     "output_type": "execute_result"
    }
   ],
   "source": [
    "import matplotlib.pyplot as plt\n",
    "import numpy as np\n",
    "import torch\n",
    "\n",
    "from gptorch.models.gpr import GPR\n",
    "from gptorch.models.sparse_gpr import VFE\n",
    "from gptorch import kernels\n",
    "from gptorch.util import TensorType\n",
    "from gptorch import kernels\n",
    "from gptorch import mean_functions\n",
    "\n",
    "np.random.seed(42)\n",
    "torch.manual_seed(42)"
   ]
  },
  {
   "cell_type": "markdown",
   "metadata": {},
   "source": [
    "## Ground truth and training data\n",
    "We'll try to model a simple one-dimensional sinusoid."
   ]
  },
  {
   "cell_type": "code",
   "execution_count": 2,
   "metadata": {},
   "outputs": [],
   "source": [
    "def f(x):\n",
    "    return np.sin(2. * np.pi * x) + np.cos(3.5 * np.pi * x) - 3.0 * x + 5.0"
   ]
  },
  {
   "cell_type": "code",
   "execution_count": 3,
   "metadata": {},
   "outputs": [],
   "source": [
    "n = 24\n",
    "x = np.random.rand(n, 1)\n",
    "y = f(x) + 0.1 * np.random.randn(n, 1)"
   ]
  },
  {
   "cell_type": "markdown",
   "metadata": {},
   "source": [
    "## Model definition\n",
    "Here, we define the GP model.\n",
    "The API is the same for exact or sparse GPs.\n",
    "\n",
    "The main components of a GP model are:\n",
    "* The mean function\n",
    "* The kernel\n",
    "* The likelihood"
   ]
  },
  {
   "cell_type": "code",
   "execution_count": 4,
   "metadata": {},
   "outputs": [],
   "source": [
    "# Kernel\n",
    "\n",
    "# kern = kernels.Rbf(1)\n",
    "kern = kernels.Matern52(1)\n",
    "# kern = kernels.Linear(1) + kernels.Rbf(1)"
   ]
  },
  {
   "cell_type": "markdown",
   "metadata": {},
   "source": [
    "### Mean functions\n",
    "Thanks to PyTorch, we can use anything that we'd like as a mean function that's a `torch.nn.Module`--anything from a linear mean function to a full-blown neural network!"
   ]
  },
  {
   "cell_type": "code",
   "execution_count": 5,
   "metadata": {},
   "outputs": [],
   "source": [
    "# mean_function = None\n",
    "\n",
    "# A traditional, simple parametric mean function:\n",
    "# mean_function = mean_functions.Constant(1)\n",
    "mean_function = torch.nn.Linear(1, 1)\n",
    "\n",
    "\n",
    "# Something more exotic\n",
    "# mean_function = torch.nn.Sequential(\n",
    "#     torch.nn.Linear(1, 64),\n",
    "#     torch.nn.ReLU(),\n",
    "#     torch.nn.Linear(64, 64),\n",
    "#     torch.nn.ReLU(),\n",
    "#     torch.nn.Linear(64, 1)\n",
    "# )"
   ]
  },
  {
   "cell_type": "code",
   "execution_count": 6,
   "metadata": {},
   "outputs": [],
   "source": [
    "# (Likelihood defaults to Gaussian)"
   ]
  },
  {
   "cell_type": "code",
   "execution_count": 7,
   "metadata": {},
   "outputs": [],
   "source": [
    "# Try different models:\n",
    "model = GPR(x, y, kern, mean_function=mean_function)\n",
    "# model = VFE(x, y, kern)"
   ]
  },
  {
   "cell_type": "markdown",
   "metadata": {},
   "source": [
    "## Train the model"
   ]
  },
  {
   "cell_type": "code",
   "execution_count": 8,
   "metadata": {
    "scrolled": true
   },
   "outputs": [
    {
     "name": "stdout",
     "output_type": "stream",
     "text": [
      "Scipy.optimize.minimize...\n",
      "loss: [45.00190563]\n",
      "loss: [32.77648622]\n",
      "loss: [24.91641509]\n",
      "loss: [23.73088631]\n",
      "loss: [13.21587464]\n",
      "loss: [74.88889866]\n",
      "loss: [11.09592274]\n",
      "loss: [7.93797859]\n",
      "loss: [312.46579925]\n",
      "loss: [3.60504148]\n",
      "loss: [3.56726358]\n",
      "loss: [2.94165438]\n",
      "loss: [2.82414602]\n",
      "loss: [2.62996434]\n",
      "loss: [1.91571414]\n",
      "loss: [5485.54650933]\n",
      "loss: [0.84931074]\n",
      "loss: [0.87673151]\n",
      "loss: [12.04747419]\n",
      "loss: [0.39391991]\n",
      "loss: [-0.09526269]\n",
      "loss: [-0.65677485]\n",
      "loss: [-0.96889031]\n",
      "loss: [-1.07464154]\n",
      "loss: [-1.26406287]\n",
      "loss: [-1.64430403]\n",
      "loss: [-1.72861503]\n",
      "loss: [-1.77036923]\n",
      "loss: [-1.77784512]\n",
      "loss: [-1.81287014]\n",
      "loss: [-1.92217127]\n",
      "loss: [-2.08635504]\n",
      "loss: [-2.13871167]\n",
      "loss: [-2.24876817]\n",
      "loss: [-2.04287207]\n",
      "loss: [-2.39431817]\n",
      "loss: [-1.9756327]\n",
      "loss: [-2.45835677]\n",
      "loss: [-2.4519167]\n",
      "loss: [-2.49776238]\n",
      "loss: [-2.50001538]\n",
      "loss: [-2.5002075]\n",
      "loss: [-2.50021118]\n",
      "loss: [-2.50021122]\n",
      "loss: [-2.50021128]\n",
      "Trained model:\n",
      "gpr (\n",
      "  (kernel): Matern52 (\n",
      "  variance\n",
      "  tensor([1.0765])\n",
      "  length_scales\n",
      "  tensor([0.2146])\n",
      "  )\n",
      "  \n",
      "  (likelihood): Gaussian (\n",
      "  variance\n",
      "  tensor([0.0069])\n",
      "  )\n",
      "  \n",
      "  (mean_function): Linear(in_features=1, out_features=1, bias=True)\n",
      ")\n",
      "\n"
     ]
    }
   ],
   "source": [
    "# Train\n",
    "model.optimize(method=\"L-BFGS-B\", max_iter=100)\n",
    "print(\"Trained model:\")\n",
    "print(model)"
   ]
  },
  {
   "cell_type": "markdown",
   "metadata": {},
   "source": [
    "## Predict"
   ]
  },
  {
   "cell_type": "code",
   "execution_count": 9,
   "metadata": {},
   "outputs": [],
   "source": [
    "# Predict\n",
    "n_test = 200\n",
    "n_samples = 5\n",
    "x_test = np.linspace(-0.5, 1.5, n_test).reshape((-1, 1))\n",
    "\n",
    "mu, s = model.predict_y(x_test)\n",
    "mu, s = mu.data.numpy().flatten(), s.data.numpy().flatten()\n",
    "y_samp = model.predict_y_samples(x_test, n_samples=n_samples).data.numpy()\n",
    "unc = 2.0 * np.sqrt(s)"
   ]
  },
  {
   "cell_type": "code",
   "execution_count": 10,
   "metadata": {},
   "outputs": [
    {
     "data": {
      "image/png": "[encoded data removed]",
      "text/plain": [
       "<Figure size 576x432 with 1 Axes>"
      ]
     },
     "metadata": {
      "needs_background": "light"
     },
     "output_type": "display_data"
    }
   ],
   "source": [
    "# Show prediction\n",
    "x_test = x_test.flatten()\n",
    "plt.figure(figsize=(8, 6))\n",
    "plt.fill_between(x_test, mu - unc, mu + unc, color=(0.9,) * 3)\n",
    "plt.plot(x_test, mu)\n",
    "plt.plot(x_test, f(x_test))\n",
    "for y_samp_i in y_samp:\n",
    "    plt.plot(x_test, y_samp_i, color=(0.4, 0.7, 1.0), alpha=0.5)\n",
    "plt.plot(x, y, 'o')\n",
    "plt.ylim(-5, 10)\n",
    "plt.show()"
   ]
  }
 ],
 "metadata": {
  "kernelspec": {
   "display_name": "gptorch",
   "language": "python",
   "name": "gptorch"
  },
  "language_info": {
   "codemirror_mode": {
    "name": "ipython",
    "version": 3
   },
   "file_extension": ".py",
   "mimetype": "text/x-python",
   "name": "python",
   "nbconvert_exporter": "python",
   "pygments_lexer": "ipython3",
   "version": "3.6.8"
  }
 },
 "nbformat": 4,
 "nbformat_minor": 2
}
