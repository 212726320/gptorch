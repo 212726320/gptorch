{
 "cells": [
  {
   "cell_type": "markdown",
   "metadata": {},
   "source": [
    "# GP Regression Demo\n",
    "This demonstration covers the basics of a supervised learning problem with gptorch:\n",
    "* Defining a model\n",
    "* Training the model\n",
    "* Predicting with the model"
   ]
  },
  {
   "cell_type": "code",
   "execution_count": 1,
   "metadata": {},
   "outputs": [],
   "source": [
    "import matplotlib.pyplot as plt\n",
    "import numpy as np\n",
    "\n",
    "np.random.seed(42)"
   ]
  },
  {
   "cell_type": "code",
   "execution_count": 2,
   "metadata": {},
   "outputs": [],
   "source": [
    "from gptorch.models.gpr import GPR\n",
    "from gptorch.models.sparse_gpr import VFE\n",
    "from gptorch import kernels\n",
    "from gptorch.util import TensorType\n",
    "from gptorch import mean_functions"
   ]
  },
  {
   "cell_type": "code",
   "execution_count": 3,
   "metadata": {},
   "outputs": [],
   "source": [
    "from gptorch import kernels"
   ]
  },
  {
   "cell_type": "markdown",
   "metadata": {},
   "source": [
    "## Ground truth and training data\n",
    "We'll try to model a simple one-dimensional sinusoid."
   ]
  },
  {
   "cell_type": "code",
   "execution_count": 4,
   "metadata": {},
   "outputs": [],
   "source": [
    "def f(x):\n",
    "    return np.sin(2. * np.pi * x) + np.cos(3.5 * np.pi * x) - 3.0 * x + 5.0"
   ]
  },
  {
   "cell_type": "code",
   "execution_count": 5,
   "metadata": {},
   "outputs": [],
   "source": [
    "n = 100\n",
    "x = np.linspace(0, 1, n).reshape((-1, 1))\n",
    "y = f(x) + 0.1 * np.random.randn(n, 1)"
   ]
  },
  {
   "cell_type": "markdown",
   "metadata": {},
   "source": [
    "## Model definition\n",
    "Here, we define the GP model.\n",
    "\n",
    "We can use a simple vanilla GP or a sparse GP."
   ]
  },
  {
   "cell_type": "code",
   "execution_count": 6,
   "metadata": {},
   "outputs": [],
   "source": [
    "# Try different kernels...\n",
    "# kern = kernels.Rbf(1)\n",
    "# kern = kernels.Matern32(1)\n",
    "kern = kernels.Linear(1) + kernels.Rbf(1) + kernels.Constant(1)"
   ]
  },
  {
   "cell_type": "code",
   "execution_count": 7,
   "metadata": {},
   "outputs": [],
   "source": [
    "# Try different models:\n",
    "model = GPR(y, x, kern)\n",
    "# model = VFE(y, x, kern)\n",
    "model.likelihood.variance.data = TensorType([1.0e-6])"
   ]
  },
  {
   "cell_type": "markdown",
   "metadata": {},
   "source": [
    "## Train the model"
   ]
  },
  {
   "cell_type": "code",
   "execution_count": 8,
   "metadata": {},
   "outputs": [
    {
     "name": "stdout",
     "output_type": "stream",
     "text": [
      "Scipy.optimize.minimize...\n",
      "loss: [124.5176815]\n",
      "loss: [99.60962121]\n",
      "loss: [96.70776184]\n",
      "loss: [90.84275576]\n",
      "loss: [58.13815462]\n",
      "loss: [55.25570078]\n",
      "loss: [1035.09962681]\n",
      "loss: [70.14885971]\n",
      "loss: [54.96108585]\n",
      "loss: [50.37621014]\n",
      "loss: [35.07388507]\n",
      "loss: [31.36623473]\n",
      "loss: [9.63080628]\n",
      "loss: [1146.58042324]\n",
      "loss: [-51.78436212]\n",
      "loss: [60.89016412]\n",
      "loss: [-66.39474506]\n",
      "loss: [-67.95792212]\n",
      "loss: [-68.30251065]\n",
      "loss: [-68.34410806]\n",
      "loss: [-68.42363433]\n",
      "loss: [-68.48203079]\n",
      "loss: [-68.63282736]\n",
      "loss: [-68.8286506]\n",
      "loss: [-69.0154219]\n",
      "loss: [-69.06748004]\n",
      "loss: [-69.07083759]\n",
      "loss: [-69.07203425]\n",
      "loss: [-69.07634949]\n",
      "loss: [-69.11993811]\n",
      "loss: [-69.15935762]\n",
      "loss: [-69.21515646]\n",
      "loss: [-69.23644328]\n",
      "loss: [-69.24255409]\n",
      "loss: [-69.24368268]\n",
      "loss: [-69.24649152]\n",
      "loss: [-69.25786535]\n",
      "loss: [-69.27386325]\n",
      "loss: [-68.74685821]\n",
      "loss: [-69.2761775]\n",
      "loss: [-69.29471106]\n",
      "loss: [-69.30561982]\n",
      "loss: [-69.30799427]\n",
      "loss: [-69.30916483]\n",
      "loss: [-69.31031672]\n",
      "loss: [-69.31112352]\n",
      "loss: [-69.31140088]\n",
      "loss: [-69.31150847]\n",
      "loss: [-69.31162214]\n",
      "loss: [-69.31167699]\n",
      "loss: [-69.31169091]\n",
      "loss: [-69.31170989]\n",
      "loss: [-69.31171323]\n",
      "loss: [-69.31171546]\n",
      "loss: [-69.31171723]\n",
      "loss: [-69.31172093]\n",
      "loss: [-69.31172518]\n",
      "loss: [-69.31172613]\n",
      "loss: [-69.3117264]\n",
      "loss: [-69.31172646]\n",
      "Trained model:\n",
      "gpr (\n",
      "  (kernel): Sum (\n",
      "    (kern1): Sum (\n",
      "      (kern1): Linear (\n",
      "      variance\n",
      "      tensor([6.2693e-06], dtype=torch.float64)\n",
      "      )\n",
      "      \n",
      "      (kern2): Rbf (\n",
      "      variance\n",
      "      tensor([5.7147], dtype=torch.float64)\n",
      "      length_scales\n",
      "      tensor([0.2367], dtype=torch.float64)\n",
      "      )\n",
      "      \n",
      "    )\n",
      "    \n",
      "    (kern2): Constant (\n",
      "    variance\n",
      "    tensor([10.9622], dtype=torch.float64)\n",
      "    )\n",
      "    \n",
      "  )\n",
      "  \n",
      "  (likelihood): Gaussian (\n",
      "  variance\n",
      "  tensor([0.0082], dtype=torch.float64)\n",
      "  )\n",
      "  \n",
      ")\n",
      "\n"
     ]
    }
   ],
   "source": [
    "# Train\n",
    "model.optimize(method=\"L-BFGS-B\", max_iter=100)\n",
    "print(\"Trained model:\")\n",
    "print(model)"
   ]
  },
  {
   "cell_type": "markdown",
   "metadata": {},
   "source": [
    "## Predict"
   ]
  },
  {
   "cell_type": "code",
   "execution_count": 9,
   "metadata": {},
   "outputs": [],
   "source": [
    "# Predict\n",
    "n_test = 200\n",
    "n_samples = 5\n",
    "x_test = np.linspace(-1, 2, n_test).reshape((-1, 1))\n",
    "mu, s = model.predict_y(x_test)\n",
    "mu, s = mu.data.numpy().flatten(), s.data.numpy().flatten()\n",
    "y_samp = model.predict_y_samples(x_test, n_samples).data.numpy()\n",
    "unc = 2.0 * np.sqrt(s)"
   ]
  },
  {
   "cell_type": "code",
   "execution_count": 10,
   "metadata": {},
   "outputs": [
    {
     "data": {
      "image/png": "[encoded data removed]",
      "text/plain": [
       "<Figure size 432x288 with 1 Axes>"
      ]
     },
     "metadata": {
      "needs_background": "light"
     },
     "output_type": "display_data"
    }
   ],
   "source": [
    "# Show prediction\n",
    "x_test = x_test.flatten()\n",
    "plt.figure()\n",
    "plt.fill_between(x_test, mu - unc, mu + unc, color=(0.9,) * 3)\n",
    "plt.plot(x_test, mu)\n",
    "plt.plot(x_test, f(x_test))\n",
    "for y_samp_i in y_samp:\n",
    "    plt.plot(x_test, y_samp_i, color=(0.4, 0.7, 1.0), alpha=0.5)\n",
    "plt.plot(x, y, 'o')\n",
    "plt.show()"
   ]
  }
 ],
 "metadata": {
  "kernelspec": {
   "display_name": "gptorch",
   "language": "python",
   "name": "gptorch"
  },
  "language_info": {
   "codemirror_mode": {
    "name": "ipython",
    "version": 3
   },
   "file_extension": ".py",
   "mimetype": "text/x-python",
   "name": "python",
   "nbconvert_exporter": "python",
   "pygments_lexer": "ipython3",
   "version": "3.6.8"
  }
 },
 "nbformat": 4,
 "nbformat_minor": 2
}
