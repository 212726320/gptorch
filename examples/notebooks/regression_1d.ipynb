{
 "cells": [
  {
   "cell_type": "markdown",
   "metadata": {},
   "source": [
    "# GP Regression Demo\n",
    "This demonstration covers the basics of a supervised learning problem with gptorch:\n",
    "* Defining a model\n",
    "* Training the model\n",
    "* Predicting with the model"
   ]
  },
  {
   "cell_type": "code",
   "execution_count": 1,
   "metadata": {},
   "outputs": [
    {
     "data": {
      "text/plain": [
       "<torch._C.Generator at 0x7f2c6c93e990>"
      ]
     },
     "execution_count": 1,
     "metadata": {},
     "output_type": "execute_result"
    }
   ],
   "source": [
    "import matplotlib.pyplot as plt\n",
    "import numpy as np\n",
    "import torch\n",
    "\n",
    "np.random.seed(42)\n",
    "torch.manual_seed(42)"
   ]
  },
  {
   "cell_type": "code",
   "execution_count": 2,
   "metadata": {
    "scrolled": true
   },
   "outputs": [],
   "source": [
    "from gptorch.models.gpr import GPR\n",
    "from gptorch.models.sparse_gpr import VFE\n",
    "from gptorch import kernels\n",
    "from gptorch.util import TensorType"
   ]
  },
  {
   "cell_type": "code",
   "execution_count": 3,
   "metadata": {},
   "outputs": [],
   "source": [
    "from gptorch import kernels"
   ]
  },
  {
   "cell_type": "markdown",
   "metadata": {},
   "source": [
    "## Ground truth and training data\n",
    "We'll try to model a simple one-dimensional sinusoid."
   ]
  },
  {
   "cell_type": "code",
   "execution_count": 4,
   "metadata": {},
   "outputs": [],
   "source": [
    "def f(x):\n",
    "    return np.sin(2. * np.pi * x) + np.cos(3.5 * np.pi * x) - 3.0 * x + 5.0"
   ]
  },
  {
   "cell_type": "code",
   "execution_count": 5,
   "metadata": {},
   "outputs": [],
   "source": [
    "n = 100\n",
    "x = np.linspace(0, 1, n).reshape((-1, 1))\n",
    "y = f(x) + 0.1 * np.random.randn(n, 1)"
   ]
  },
  {
   "cell_type": "markdown",
   "metadata": {},
   "source": [
    "## Model definition\n",
    "Here, we define the GP model.\n",
    "The API is the same for exact or sparse GPs.\n",
    "\n",
    "The main components of a GP model are:\n",
    "* The mean function\n",
    "* The kernel\n",
    "* The likelihood"
   ]
  },
  {
   "cell_type": "code",
   "execution_count": 6,
   "metadata": {},
   "outputs": [],
   "source": [
    "# Kernel\n",
    "\n",
    "# kern = kernels.Rbf(1)\n",
    "# kern = kernels.Matern32(1)\n",
    "kern = kernels.Linear(1) + kernels.Rbf(1) + kernels.Constant(1)"
   ]
  },
  {
   "cell_type": "code",
   "execution_count": 7,
   "metadata": {},
   "outputs": [
    {
     "name": "stdout",
     "output_type": "stream",
     "text": [
      "Inducing points:\n",
      "[[0.06060606]\n",
      " [0.28787879]\n",
      " [0.37373737]\n",
      " [0.18181818]\n",
      " [0.43939394]\n",
      " [0.7979798 ]\n",
      " [0.93434343]\n",
      " [0.58585859]\n",
      " [0.68181818]\n",
      " [0.50505051]]\n"
     ]
    }
   ],
   "source": [
    "# Mean function\n",
    "mean_function = torch.nn.Linear(1, 1)  # Or any other PyTorch module!"
   ]
  },
  {
   "cell_type": "code",
   "execution_count": 8,
   "metadata": {},
   "outputs": [],
   "source": [
    "# (Likelihood defaults to Gaussian)"
   ]
  },
  {
   "cell_type": "code",
   "execution_count": 9,
   "metadata": {},
   "outputs": [],
   "source": [
    "# Try different models:\n",
<<<<<<< HEAD
    "model = GPR(y, x, kern, mean_function=mean_function)\n",
    "# model = VFE(y, x, kern)"
=======
    "# model = GPR(y, x, kern)\n",
    "model = VFE(y, x, kern)\n",
    "model.likelihood.variance.data = TensorType([1.0e-6])"
>>>>>>> 951d88b0e7c3ccd1c8ffe0e8f79533f056ea85a7
   ]
  },
  {
   "cell_type": "markdown",
   "metadata": {},
   "source": [
    "## Train the model"
   ]
  },
  {
   "cell_type": "code",
   "execution_count": 10,
   "metadata": {
    "scrolled": true
   },
   "outputs": [
    {
     "name": "stdout",
     "output_type": "stream",
     "text": [
      "Scipy.optimize.minimize...\n",
<<<<<<< HEAD
      "loss: [125.14461833]\n",
      "loss: [100.32476456]\n",
      "loss: [97.53899962]\n",
      "loss: [95.74286434]\n",
      "loss: [91.55895604]\n",
      "loss: [77.67898473]\n",
      "loss: [71.07083834]\n",
      "loss: [69.49772267]\n",
      "loss: [68.58179498]\n",
      "loss: [282.84580193]\n",
      "loss: [70.61279463]\n",
      "loss: [68.19996815]\n",
      "loss: [58.14214006]\n",
      "loss: [18.76301093]\n",
      "loss: [-53.95965047]\n",
      "loss: [-48.37072941]\n",
      "loss: [4453.75048164]\n",
      "loss: [-64.17724549]\n",
      "loss: [-67.24641811]\n",
      "loss: [-68.37127251]\n",
      "loss: [-68.49538123]\n",
      "loss: [-68.58934855]\n",
      "loss: [-68.90928314]\n",
      "loss: [-69.06602483]\n",
      "loss: [-69.14116451]\n",
      "loss: [-69.19388136]\n",
      "loss: [-69.31221346]\n",
      "loss: [-69.43244324]\n",
      "loss: [-69.57829404]\n",
      "loss: [-69.69625028]\n",
      "loss: [-69.70132773]\n",
      "loss: [-69.72253621]\n",
      "loss: [-69.62554444]\n",
      "loss: [-69.76023683]\n",
      "loss: [-69.84957461]\n",
      "loss: [-70.03955286]\n",
      "loss: [-70.27736477]\n",
      "loss: [-70.50344002]\n",
      "loss: [-70.70520667]\n",
      "loss: [-70.6867204]\n",
      "loss: [-70.83468375]\n",
      "loss: [-70.91452454]\n",
      "loss: [-70.96258766]\n",
      "loss: [-70.9817702]\n",
      "loss: [-70.97024372]\n",
      "loss: [-70.98977978]\n",
      "loss: [-71.00379439]\n",
      "loss: [-71.00882387]\n",
      "loss: [-71.00938619]\n",
      "loss: [-71.00943719]\n",
      "loss: [-71.00952206]\n",
      "loss: [-71.00997149]\n",
      "loss: [-71.01085656]\n",
      "loss: [-71.01303254]\n",
      "loss: [-71.01681526]\n",
      "loss: [-71.01153521]\n",
      "loss: [-71.01991012]\n",
      "loss: [-71.02467216]\n",
      "loss: [-71.02813862]\n",
      "loss: [-71.02859601]\n",
      "loss: [-71.02673364]\n",
      "loss: [-71.02863344]\n",
      "loss: [-71.02885812]\n",
      "loss: [-71.02885656]\n",
      "loss: [-71.02896928]\n",
      "loss: [-71.02921092]\n",
      "loss: [-71.02929223]\n",
      "loss: [-71.02936615]\n",
      "loss: [-71.02946077]\n",
      "loss: [-71.0295181]\n",
      "loss: [-71.02445694]\n",
      "loss: [-71.02952033]\n",
      "loss: [-71.02952744]\n",
      "loss: [-71.0295305]\n",
      "loss: [-71.02951679]\n",
      "loss: [-71.02953128]\n",
      "loss: [-71.02953598]\n",
      "loss: [-71.02953886]\n",
      "loss: [-71.02953766]\n",
      "loss: [-71.02953938]\n",
      "loss: [-71.02954075]\n",
      "loss: [-71.02954123]\n",
      "loss: [-71.02954147]\n",
      "loss: [-71.02954169]\n",
      "loss: [-71.02953616]\n",
      "loss: [-71.02954169]\n",
=======
      "loss: [124.51787035]\n",
      "loss: [99.61121948]\n",
      "loss: [96.71216188]\n",
      "loss: [90.88831524]\n",
      "loss: [58.33767014]\n",
      "loss: [55.50233804]\n",
      "loss: [1.48023954e+20]\n",
      "loss: [2.63194475e+08]\n",
      "loss: [31081.29557332]\n",
      "loss: [83.45459724]\n",
      "loss: [55.57673503]\n",
      "loss: [55.04979703]\n",
      "loss: [52.29920714]\n",
      "loss: [41.39427135]\n",
      "loss: [-0.29957183]\n",
      "loss: [16.91521322]\n",
      "loss: [-62.99354116]\n",
      "loss: [7139.34852889]\n",
      "loss: [-64.73185849]\n",
      "loss: [-66.27379356]\n",
      "loss: [-64.81824602]\n",
      "loss: [-66.37833994]\n",
      "loss: [-67.33440715]\n",
      "loss: [-67.4399201]\n",
      "loss: [-67.51481697]\n",
      "loss: [-67.65728062]\n",
      "loss: [-67.8935304]\n",
      "loss: [-68.41567477]\n",
      "loss: [51.75660775]\n",
      "loss: [-68.45305462]\n",
      "loss: [-68.61096053]\n",
      "loss: [-68.84487818]\n",
      "loss: [-68.91767537]\n",
      "loss: [-69.01425714]\n",
      "loss: [-69.0381912]\n",
      "loss: [-69.05694132]\n",
      "loss: [-69.06449688]\n",
      "loss: [-69.06746817]\n",
      "loss: [-69.06898693]\n",
      "loss: [-69.07103528]\n",
      "loss: [-69.07683349]\n",
      "loss: [-69.08392541]\n",
      "loss: [-69.09666827]\n",
      "loss: [-69.12674674]\n",
      "loss: [-69.16744494]\n",
      "loss: [-61.23623311]\n",
      "loss: [-69.19898637]\n",
      "loss: [-69.21668695]\n",
      "loss: [-69.21936988]\n",
      "loss: [-69.22301102]\n",
      "loss: [-69.23317562]\n",
      "loss: [-69.23562621]\n",
      "loss: [-69.23727474]\n",
      "loss: [-69.23819]\n",
      "loss: [-69.23882785]\n",
      "loss: [-69.23973298]\n",
      "loss: [-69.24103283]\n",
      "loss: [-69.24244667]\n",
      "loss: [-69.24380146]\n",
      "loss: [-69.24624193]\n",
      "loss: [-69.25050363]\n",
      "loss: [-69.26180219]\n",
      "loss: [-69.27384661]\n",
      "loss: [-69.28401843]\n",
      "loss: [-69.28912909]\n",
      "loss: [-69.29160801]\n",
      "loss: [-69.29753391]\n",
      "loss: [-69.30008829]\n",
      "loss: [-69.30176018]\n",
      "loss: [-69.30232672]\n",
      "loss: [-69.30296801]\n",
      "loss: [-69.30377805]\n",
      "loss: [-69.30427345]\n",
      "loss: [-69.30404079]\n",
      "loss: [-69.30436762]\n",
      "loss: [-69.30444966]\n",
      "loss: [-69.30449735]\n",
      "loss: [-69.30454445]\n",
      "loss: [-69.3046662]\n",
      "loss: [-69.30482059]\n",
      "loss: [-69.30422195]\n",
      "loss: [-69.30489573]\n",
      "loss: [-69.30501266]\n",
      "loss: [-69.30504304]\n",
      "loss: [-69.30506651]\n",
      "loss: [-69.30505602]\n",
      "loss: [-69.30507533]\n",
      "loss: [-69.30507889]\n",
      "loss: [-69.30508424]\n",
      "loss: [-69.30508564]\n",
      "loss: [-69.30508774]\n",
      "loss: [-69.30509066]\n",
      "loss: [-69.30509499]\n",
      "loss: [-69.30510132]\n",
      "loss: [-69.30510739]\n",
      "loss: [-69.30511269]\n",
      "loss: [-69.30511874]\n",
      "loss: [-69.30512353]\n",
      "loss: [-69.3051283]\n",
      "loss: [-69.30513292]\n",
      "loss: [-69.30513726]\n",
      "loss: [-69.30514071]\n",
      "loss: [-69.30514471]\n",
      "loss: [-69.30514753]\n",
      "loss: [-69.30515126]\n",
      "loss: [-69.30516127]\n",
      "loss: [-69.3051648]\n",
      "loss: [-69.30516801]\n",
      "loss: [-69.30517095]\n",
      "loss: [-69.30517426]\n",
      "loss: [-69.30517528]\n",
      "loss: [-69.30517699]\n",
      "loss: [-69.30517728]\n",
      "loss: [-69.30517858]\n",
      "loss: [-69.3051789]\n",
      "loss: [-69.30517918]\n",
      "loss: [-69.30517964]\n",
      "loss: [-69.30517936]\n",
      "loss: [-69.30517972]\n",
>>>>>>> 951d88b0e7c3ccd1c8ffe0e8f79533f056ea85a7
      "Trained model:\n",
      "gp (\n",
      "Z\n",
      "tensor([[0.0011],\n",
      "        [0.1588],\n",
      "        [0.2797],\n",
      "        [0.0583],\n",
      "        [0.4092],\n",
      "        [0.9846],\n",
      "        [0.7968],\n",
      "        [0.9075],\n",
      "        [0.6718],\n",
      "        [0.5414]])\n",
      "  (kernel): Sum (\n",
      "    (kern1): Sum (\n",
      "      (kern1): Linear (\n",
      "      variance\n",
<<<<<<< HEAD
      "      tensor([6.1219e-07])\n",
=======
      "      tensor([3.3981e-05])\n",
>>>>>>> 951d88b0e7c3ccd1c8ffe0e8f79533f056ea85a7
      "      )\n",
      "      \n",
      "      (kern2): Rbf (\n",
      "      variance\n",
<<<<<<< HEAD
      "      tensor([2.9491])\n",
      "      length_scales\n",
      "      tensor([0.2143])\n",
=======
      "      tensor([5.7196])\n",
      "      length_scales\n",
      "      tensor([0.2367])\n",
>>>>>>> 951d88b0e7c3ccd1c8ffe0e8f79533f056ea85a7
      "      )\n",
      "      \n",
      "    )\n",
      "    \n",
      "    (kern2): Constant (\n",
      "    variance\n",
<<<<<<< HEAD
      "    tensor([5.6885e-15])\n",
=======
      "    tensor([10.9859])\n",
>>>>>>> 951d88b0e7c3ccd1c8ffe0e8f79533f056ea85a7
      "    )\n",
      "    \n",
      "  )\n",
      "  \n",
      "  (likelihood): Gaussian (\n",
      "  variance\n",
<<<<<<< HEAD
      "  tensor([0.0083])\n",
=======
      "  tensor([0.0082])\n",
>>>>>>> 951d88b0e7c3ccd1c8ffe0e8f79533f056ea85a7
      "  )\n",
      "  \n",
      "  (mean_function): Linear(in_features=1, out_features=1, bias=True)\n",
      ")\n",
      "\n"
     ]
    }
   ],
   "source": [
    "# Train\n",
    "model.optimize(method=\"L-BFGS-B\", max_iter=100)\n",
    "print(\"Trained model:\")\n",
    "print(model)"
   ]
  },
  {
   "cell_type": "markdown",
   "metadata": {},
   "source": [
    "## Predict"
   ]
  },
  {
   "cell_type": "code",
   "execution_count": 11,
   "metadata": {},
   "outputs": [],
   "source": [
    "# Predict\n",
    "n_test = 200\n",
    "n_samples = 5\n",
    "x_test = np.linspace(-1, 2, n_test).reshape((-1, 1))\n",
    "mu, s = model.predict_y(x_test)\n",
    "mu, s = mu.data.numpy().flatten(), s.data.numpy().flatten()\n",
    "y_samp = model.predict_y_samples(x_test, n_samples=n_samples).data.numpy()\n",
    "unc = 2.0 * np.sqrt(s)"
   ]
  },
  {
   "cell_type": "code",
   "execution_count": 12,
   "metadata": {},
   "outputs": [
    {
     "data": {
<<<<<<< HEAD
      "image/png": "iVBORw0KGgoAAAANSUhEUgAAAXYAAAD8CAYAAABjAo9vAAAABHNCSVQICAgIfAhkiAAAAAlwSFlzAAALEgAACxIB0t1+/AAAADl0RVh0U29mdHdhcmUAbWF0cGxvdGxpYiB2ZXJzaW9uIDMuMC4zLCBodHRwOi8vbWF0cGxvdGxpYi5vcmcvnQurowAAIABJREFUeJzsvXecHedd7/9+pp+2Z7t2VVcrq1m2bFly3J04RQlWSCDNoYcbXgEuF/yjh8QBB8JNKL/8cCDwI5dmAgkmTgPbhJAEOy6RbdkqltXrrqTt5dSZM+25f8zuqm3TVu1q3v7HOmfOM6PV2c888y2fr5BSEhMTExOzeFDm+wJiYmJiYmaWWNhjYmJiFhmxsMfExMQsMmJhj4mJiVlkxMIeExMTs8iIhT0mJiZmkRELe0xMTMwiIxb2mJiYmEVGLOwxMTExiwxtPk5aX18vW1pa5uPUMTExMQuWV155pVdK2TDRcfMi7C0tLezatWs+Th0TExOzYBFCnJ7McXEoJiYmJmaREQt7TExMzCIjFvaYmJiYRUYs7DExMTGLjFjYY2JiYhYZsbDHxMTELDJiYY+JiYlZZMTCHhMTE7PImJcGpemQy+UAME0TwzBQlPjeFBMTE3MhC07YHcchDENs20ZKiaqqWJaFYRix0MfExMSwAIV9GCklAEEQUCqVKJfLSCnRNA3TNEd29EKIeb7SmJiYmLllwQr7pQwLve/7+L4/IvS6rmNZFqZpomlaLPQxMTGLnkUj7JcyLPSe5+F5HsViEQDDMEaEXlXV+bzEmJiYmFlh0Qr7pQwLfaVSwXVdpJQoioJlWSMx+ng3HxMTsxi4ZoT9QoZFPgxDyuXySCLWNM0RoY+TsDExMQuVa1LYL+XS3Xwul0PXdRKJBJZlxSGbmJiYBUUs7JdwYWze933y+Ty6rpNMJuOdfExMzIIgFvZxuFDk8/k8uVwOy7JIpVLouh7H5GNiYq5KFpSwhxK8EOYjMDIs8o7j4DgOqqqSTqdJJBKxwMfExFxVLKi4wsEeeKUnQclTOFfWOJozCeT8XEsQBOTzebq6uigUCoRhOD8XEhMTE3MJC2rH3pSGQ6Hg5Z4kw3ruBILmpIcEGqxgTq9neBdfKpUolUqk02lSqVS8g4+JiZlXFpSw1yVhW4PN0ZxOjekTSsHRnEmvE/01bq6zqTHnVtzhvMAXCgWKxSLZbBbLsmKBj4mJmRcWlLADWJpkU40z8ueMHhBKwaFBk2N5k631ZRQBbUWdlBZSNw+7+FwuR7FYpLq6Gl3X5/T8MTExMQtO2C8la0Sx7TVVLq8PWHSUdaqNgON5k7QeUmeVZ+3cwhlE7z0ASIKqlQRVK4BI3H3fp7e3l3Q6TTqdjnfvMTExc8aCF/ZhGiyfaiPgRMGg2oh26UVPoeQppPSZTWzq3a+RfuXzWG1PX/R6pXkbxW2/grv0DSOvFYtFbNumtrYWTVs0P+6YmJirmEWjNELA+mqHl3tS9DoaDZZPr6PR7Wis1t2ZOUngkX7l86R3/zXSylLY8guRiCs6evc+kq//M7VPfIjCG36V0k0/F10UUQVNT08P2WyWZDI5M9cSExMTMwaLRtgBkppkdabC6YJBa1UFXwq6bY2WtMt0IyHCK1P97V/BOvMc5Q3vI3/HR5FGeuR9d+mtlDd9kOzTD1H14v+LCDyKW//nRWvk83lc1yWbzcahmZiYmFljUQk7wMq0x7KUhyqg0fI4nLMoeApVxtTDMcItUvvkh9F7XmPw3j/A3vj+UY+TeorBt34W+bRBZtfnCDLLsde96/z7UmLbNr7vU1tbG9sTxMTEzAozoixCiF8VQrwuhNgvhPiyEMKaiXWnijq0GW5I+CgCOu1pVKb4DjXf+kX03tcZeNsjY4r6CEKQu/cPqDTfStWzD6Pmz1x2iOd59PT04Pv+1K8rJiYmZgymLexCiGXArwDbpJQ3EHX8f3C6684EuhIlVbtsbWodqjKk+nu/hdGxi8H7/ojK6rdN7nOqweB9fwRCkH3m4yAvf1oIw5De3l48z5vChcXExMSMzUzFAjQgIYTQgCRwbobWvZgwRCl2XNFHmpIefihGmpiuhPSuPydx8tsU7vhtnOt2XNFnw8xS8nf8Nua5F0kc/fdRj5FS0tfXF4t7TEzMjDJtYZdSngX+FGgDOoCclPLb0113VJ74f6j9+o8h7IFJf6TaCLBUybmSjryCXbt17Akyr/4V5Q3vo3Tjz0zhYsHe8D68+utJv/wIBKNX5sTiHhMTM9PMRCimBng3sBpYCqSEED85ynEfEULsEkLs6unpmdrJtn4IpdxDzfd+A8LJdZQqAlakXQZdlQF3cr6Qevc+qp/+GJXmbeTu/l2mXFIjFPK3/QZa8RzJ17885mGxuMfExMwkMxGKeStwUkrZI6X0gK8Bd156kJTyC1LKbVLKbQ0NDVM707JbKNzzCcwzz5N+5fOT/lhz0sNSJSfyxoS7dqXYSc1//hJBspGBt/05qMbUrnUId/mdVJbdQXrPF8CvjHncsLjHCdWYmJjpMhPC3gbcLoRIiqg4+y3AwRlYd1TsjQ9QXvejZF79S8y2Zyb1GVVAS6ZCwVM5Xhhb3IVXovY//yfCKzPwjr9CJmpm5JqLW34e1e4jcfSb4x43LO5BMPdGZjExMYuHmYixvwg8DrwKvDa05hemu+6YCEHu7t/Fq9tA9Xd/E3Xw5KQ+1pTwWZbyaC8anCqOsgsPfaq/82tofYcYfOtn8WvXztglu0tvw63fRHrv341aIXPRZYQhfX19sb97TEzMlJmRqhgp5e9JKTdIKW+QUv6UlHLsmMNMoCcY2P7nSEWl9lu/iHAGJ/yIELC2qsKShE9b0cAJLoibS0n22U9itT1D/u7fpbLyjTN7vUJQuunDaLlTmKefnvDwIAgYGBgYsQOOiYmJuRIWbOtjULWCge1/gVo4OxI+mQghYHWmgpTQfsGuPf3qX5E89BUKW36B8vWzU4LvtG4nSDaSPPAvkzp+eM5qTExMzJWyYIUdwGveyuBb/gS9aw813/5l8OwJP5PQJE1Jj3NlnUogSO39OzK7Pkd53bsp3vrg7F2solHe8D7M9mdRC5d3o17KsP1AqVSavWuKiYlZlCxoYQdwWt9B7t4/wDjzAnVPfRhRyU34mVVpF6Sk/dXvUrXzj7Fb30Hu3k9NvaxxkpQ3vA+EIHHw8UkdL6UcMQ6LiYmJmSwLXtgB7A3vZfCtn0Xvfo36r74XvXvfuMen3B5uPPBpBjvbOLnxfzH4lj8FdfYnHYWZpVRW3EPy8FcnXYcP0N/fH1fKxMTETJpFIewAzpofou+H/xFkSN03Pkj26Y+j9R/lwtpGpdxLavcXaHjsh9hw8m/RV97KnvW/RSjmzuTSXvejqOUejHM7J/0ZKSX9/f1xMjUmJmZSLEjbXimjqIkXwt6+BMtSHs1JH69pC73v+wbpVz5P6sCXSR7+KkGqiSC1BKUyiJJvR5EhzvK7yd/1MZaa69g/oNDraDQm5qYxyFl1H6GRIXHk33CX3zXpz/m+Tz6fJ5vNzuLVxcTELAYWnLC7AbzUnaLO9AmkiJqO8goNlo+mgDSryN3xOxxe/8vUdTzDkq7/RnEGaKvaxmvXbef6VbWkG6LZpHXSJ6GGtJd0GqxI2Gd9/oVm4rS+A+vYk+S930Pqk5+oVC6X0XU9nsIUExMzLgtO2NuKBpVAcK4cxcQbLJ8eR+NMyaAl41IJBK8PWOTcNHr9B7h14ztxQ8Hu3iSBhIOEbJVlFBH5yCxPexzNmTzTkSatB2ytt2dd3O217yJ56CuYp76Ls/aHr+iz+XweXdfR9dnPCcTExCxMFlSMveLD2ZJOU8JjfbVDU9Lj+hqHesunvaRT9BQODFgUPZU1VRVCKdjTl2B3bwJNkazLVih6CicLBt5QY2dzMpq4ZAeCg4PRtKXZxm3eSpBsJHHiP6/4s8Px9rgzNSYmZiwWlLAfH4BQwqqMy9Kkz8bqCoqANVUVFOCV3iSDrsrarMPKtMd1VQ62r1BvBdxcV2Zp0qPBijpPf9CVpsvWUAWsSLkYisQPBYcGTUq+oM+ZnBPklBAKzuq3YbY/i/CuvE49DEMGBwfjZGpMTMyoLChhb0xBa5VLUrtY0JKa5KY6G01EzUdNQ4nQpSmfe5qLXF/jkNQkQsCmGodb6stk9IADAxanCzrtJQNVRN7tx/MWu3uSvNafGNnVzwZO63ZEUMFse3ZKn69UKpTLE3fbxsTEXHssKGGvT8KqzOie5Wk95PYlJTZkKxfFyNVL4uVCQNYI2Vxn05jwOVEwOVvSaUz4bKxxcALBgKsiYUpTlyaL27SNwKrFOjn1mSRx81JMTMxoLChhnwhVTL6qRRVwfbXD5lqbesunJVNhTaZCg+VjqRJDCemezhDsiVBUnNVvxWx7GnxnysvEzUsxMTGXsqiE/UoRAuqsgBtro1CNrsK9zUV0RRJKwUBFxQ25opF6V4KzejuKV8Y88/yU15BSxk6QMTExF3FNC/toVBkhTUmPsq/Q66h872yG57tSnCroF1v9DuGHUAkEwTi6avuCnKtcdoNwl95GaGaxTkxvRGzsBBkTE3MhC66OfS5Yl42qbF7rT9Bta3TbgtMFg5vrymyqrXC2pBNIkEBbwcCXAkXAkoRHnRlgqCFVeogQURXPvv4EZV8hpYVsqrVJqpIeR6PGBGfVm7FOfYdc4E5rDF/cvBQTEzNMLOyjoAhYV12hKemRqyicKRucLhocy5usyngcyZkjx9aZPnVWQMlX6CjrdAw1Tq3NVlie8uiyNcq+wvKUR6etcSxn0ZjwODRo0ZjwSbduJ3nk65hnX6Sy8p5pXXcul0PTNAxjenNaY2JiFjaxsI9DlRFSZYSsyPgI4HDOYn+/hSJga31UapjWz9dErs5UcAKFk3mD43kTXZGcKhhk9JDrqiqYasjxvEnOVVGFpNvWaK9/E35qPdap/562sEOUTK2vr0fT4n/amJhrlTjGPknWZaNpf92ORoPlk9bDi0QdQFcgo4dsqK6gCcmBAYtKoNBaFZVgLkt5WGpIKOHmOpukFvJ6LsNzLb/JiT5vwnmokyEeiB0TE7Pgt3XDTo+zTY0ZUGf6DLoqzcnxa8cNVXJLfRkniOLqhhplTVUBN9Y6VAJBlRGyqcahv6JSqclypn811rmTHNZvZGXapSk5dbfJ4YHY9fX1KEp8746JudZY0L/1eVfhha4UZ0uzb4glBNxQa5PRQ6Sc+E6S0CQ1ZjAi6sOk9ZA6Kxj5/5Vpj1UtqxBI9nc4lHyFzhmonw+CgN7e3thTJibmGmRBCXvZg4FKdMmDFZU9fQnc8LzT42yzIu1Rb/mcneHzGakqWo0eMv37qLN8cq46bvnkZBkW9zgsExNzbbGghP1QL+zpTXB40GRffwJTlaxMuxQ9hbI/+/EYVcDSlEefo834+ZYtXcL2k59kRdhOKKMb18s9SU4Xp3cTCYKAnp6e2HogJuYaYkEJ+42NsCThc66sk9BCttTZLEtF3jE99tykC5YmPYSAfX0J2ov6jHWlOqveggCWnPs2AjiSsyh6Cu1FA3+a0ZThhGqxWJyVDtXhNZ888STbH9/O5kc3s/3x7Tx54skZP1dMTMzEiPloRd+2bZvctWvXlD7b2dnFgCNI6wHa0G3pld4EUgq2NcyN22Gfo3K6aJBzVZqTHusvMR677JrLGl4oWJEe3cBsmPp/fSdhop7v3PEYOVclqYWUfYV12crIDWw6CCFQVZXq6uopDeqQUhIEAa7rUqlU8H2fYiWkvajzdOd3+Gb7H+OGlcs+15xq5sFbHmRH645p/x1iYq5lhBCvSCm3TXTcgquKEQKqzYtjxo2Wz7G8yaCrUG3MfrKwzgqoNW1OFQ1OFQxMVbI6c3GoI5AgAD8UHMlZBDIqhbz02i+ksurNpPb+LXVKjjy1XF/jcHjQpL2kU2UEpLVwWhVAUkp836e3txfDMEilUpimiRhj0QuF3HEcXNdFSokQAj+UnMgZdJRNXCl44sznRhV1gI5SBw+/8DBALO4xMXPAjAi7EKIa+BvgBqJO+/8hpfzBTKx9KQVXYV9fglrTZ01VBU2JpiC1lwxO5E2WpTx6bI311Q76LAaahICWofj+2ZLOqrSLMqSPUkahGjcUZI2AUIKpSo7kTLY2lFGHBnH3VzQEjAzSdlreTHrPF7iu99vUrX4XaT1kdcbltf4Eu3qSLEt5I/X008V1XTzPQ0qJpmlomjYi8GEYEgQBvu+PvHbhk13eFbQXdZ7tyHC88C1ey/0BAeM7VDqBw6df/HQs7DExc8BM7dgfAb4lpXyfEMIAZsWwJOfAnj4LKSUdZZ1BV+XmOhtTlbSkKxzOWeTcaPKRkrO4vmbqdriTQYgo5t7raPQ5GhkjQAAlX2HQVRFA2VdoTPg0JTz29SfY15egxgxoKxoju/qMXiKhSbzGzQSJelJt38Nb904gejq4s6nInt4EpwoGzUmPjD4zTyXDYu37Pr4/et38paE6KaME9sEBk/0D/8Hh0sPA5Gruc26OJ088GYv7NcTwE5/v+yOlt6qqomkauq6jqrM4qewaZtrCLoSoAu4FPgQgpXSBWSnBOJ2LKlNuqouaf/b3W+zpS3BznU1T0qfX8UlqIarCUIjEoCnpkdJmL49QYwaYqqSjrHG8YOCHAkORmKpkU43NqYLJ6kyFpCbZWO1wOGcx6KrUWz7NSY/9/QnOlnSuy7ogFE6u/kmWnPwKXGAK1m3rFDyVXkfj8KA5JwO3x+JMSefQgE5bXnKy/BdMVtSHeeTVR2JhX+RIKXEch2KxOPLUd+kGYfg1RVGwLItkMnnRU2PM9JiJYEUr0AP8vRBitxDib4QQqUsPEkJ8RAixSwixq6enZ0on2tQg2dpgjzT/3FhnUwkUThQMFAGb6xyuy7qsSrvUD802fbl7dhuYhl0dO2ydfkcllIKSr7Ai5ZI1Qm6qs0dG+TUlfbbVl7mpzubGWod6K6Ax4dNR1vFDKHgKr9a9l9eSb0Q/9zIA50oaR3MmNWZARg84VTA5XTSQEsq+wJtFv/gLCSWcK2v8V5vBga4yZcfGlV1XvE5HqSOullnEeJ5HT08PuVxu5ClwtAKN4dfCMKRcLtPX10dPTw+lUiluqpsBZkLYNeAW4K+klFuAEvDRSw+SUn5BSrlNSrmtoaFhSif6i+8d4+cfe52/fO4sL53OYwmfJQmPblvHveC7IIha9+9YUqLO8jmSM2dU3KU8L6ZeCMuSHqGMdtbLky7rshWWjlHFktJDaocSqF4INaaPHwoODlqczBv4mRX0Jloptr3GubLGkZxFnelzU53N+myFUMIPulJ883SWfzud5ZlzaQ5d4DY504QSTuQNdnan+O5pjYN9kUXx0myCKjJTWvMTz38iFvdFSKlUGmmIu9Jqu+FEfT6fp7u7m3w+HzfWTYOZiLGfAc5IKV8c+vPjjCLsM8HSagtDVfjS7i6++EoXuirYvKyaNctXI12fu1eo9Dg6x/ImLWmXZSmPTTUOe/vOx6eVaVWVQKetcXwoSbsq7bKrJ4muSLJGgBcITpcMVqTdSd0xj+fNaLcuo/8vegrbGspU0rW8VjApDFjUWAGbah1UAWuyFQw1ZHdfEjcQJNRoQHePrbMuW7lsvutM0G1rnC4alCsOuzoE6WSCbNrEdLp4a7iNbyjPEHJlv4Be6MUhmUWElJJisUixWJyx9UqlEqVSiUQiQSaTiWPxV8i0hV1K2SmEaBdCrJdSHgbeAhyY/qVdzvu3reDeFQZFx2PvuSIvtxfY1V7guWPdvHhK44/+q4ubW1ezvNqjO2NxY6PBuqzL8rTL/v4E/RWVemvqu4AzpeimoQo4W9JJayFOoOAMLXlznY0TRk1FWSOgYZxzSQl9jkZaD5ESvFDgh1HC9boGg64Dr7JKHKSudsXIzUgV0JLxaMnkANjTl6DPUfFDyLnqyJPATDLoqgRBwH+dCEgmsjQmBZnicVbnXqBq7YdZbt7G3x/9Cwp+AQBd6Hhy4pr7jlLHjF9rzPxQLBYplUqzsrZt29i2jWVZZDKZ2I56kszUT+mXgX8eqog5AfzsDK07KklD5Y6WLHe0ZAE4nZN8r13jbC7LuZzDcy+8Rn1NIzWpBMvMfrYuz2BkltFZ1qcs7KGMhL3aCFiZdtnXn+BILvJcb8m4tBUNGpM+hiLpczTOlgwaLHvM9Yq+ghsK1lRVaEr6OIHg0IBJp61jNdxFk/OPNHT8G6WlvzTmGs1Jj35HxQ0FfY4248J+rqzRXtT5zqFONKuJ6oRKo3eSt7R9kiVb3oq8roFE4n5+7tYfuyjp9eSJJ3nk1UcmFO9P7fwUD93+0Ixec8zcUiqVZmynPh6O4+A4Tizwk2RGfjpSyj3AhN1Q08X2oq7PmkuakFZlBQ+kQo7lUzRYJuLuDXy/zePAgMne451850gbddVlltfXs8Ls49YVGZbW17Gh5nz36jBlX5BzoyRoveVj+wr+ULjQCRTWVDkjlTCVQLA85bE85bFsyGoAYGnS5UTBpOQppMYoTex3okfLmiExtlTJxpoKL/WonPAa6Fz6E9zb9q+wdeyfR73lY6iSkq/Q56joioEiJCsn6HCdDKGEQwMmu7sk54qwvtZghT7I6lNPsKIxQ2X9DkzTJJvNXlbJsKN1Bztad/DE8Sd46PmHCOToN5zHDj8GEIv7AsV13TmftTss8IZhkMlk4mlhY7CgbnuH++Bov8kdS7zL4slJTbK5drhu3eBdG00aulL87M03IL08P2grs39QY1+Hys5zBWoyKrWmx/qGBNuWGdzSpFD0VXb3JhlO+1w4Ak8RUZNRveWjiGi3fKoQlVPCxZ7wzUmfU0WTs2V9zIaivopGRg8xL7D1NVXJ7Y0lvFCwu7OF3g5JtthJmG4adQ1VwKq0S5+TpNvWsIPoLhVV0FxZZUEgo5r7jB4ShLCv3+L1Pp2ess+qxnqqDMGyru9ws/Mc7vY/RlVVampqxi1Pe+eadyKE4KPPjp1yeezwY2xp3BLH2xcYYRgyMDAwb+d3XZe+vj40TSOTyYzbQX0tsqCEfXkVHDwXhR2GuzXHwlIlKS1kwNXYWJ3k/ZsT3FowaFtbQ0/Jo23ApbMEz7fnef6MjxrYrF1SRUst3N8aYmgKfRWVhCrxQsGJgsGK1Pnu0pVpl2pjdAE1VEmj5dFV1mjNVEaeCvwQNAWcQJB3VVamLy/31xXQFUmybjmd1jrSp35AW8sHWJEaPfG7POXRbbscy5tUi2j26rGcyQ21USnocPfreIlVL4wGd+dclZvryuzpS/J6n0WXLTF0ldqERdY9R6p8GuXmH0Maaaqrqyf1i7SjdceEYZk4kbrwyOVyV0VZou/7DA4OIoQglUqRTCbj4TIsMGGvTUS72i57YmEHqLN82osGL3Sl0BXJynSFQArqkgaWabHcU7l3q8czpz0O9NdwfKDCM4cO8XfPlLmzpYr71tZwZ0sVCV1lafLi8IYqzodRRmNZyqPT1umydZalPHodlf39CZqSHiVfQRWS5uTYIZPa2mq6MhvY16PSX2uS1s4P6LiQaACIg6VJCq7CYCjoLGsMuunza5kBN9Tao4q7lJGod9saAxWVp0pZ3ECQcyo4FUlzRiWpCpZ1PE1YtRKt9W4SicQVPQI/eMuD4+7aO0udk14rZv6pVCo4zux2dV8JUkqklBQKBQqFAqZpkkqlMAzjmt3FLyhhj5qBfNoKGm4IxgQ35qaET8FTyRoB/RWV43kLiUACYShIaCFLMjo/vlnndEGn6KUoFkKePjbIM8cH+e7RQSxN4a7VVey4vo43rKxCneQXpcoIyegBZ0s61YbPwQELXYmsEAA21TgkxumIrU/4nK1ejdq1By2s0GXrowo7MNTl6uCH8HJPksGKSku6QlKXuIHgWN5kT2+CKiNkecq96Lz9FZWcq5LSQvodlW5bQyWgM2dTY3i8q9Vk76E2rKCAvvodKIogk7my+vUdrTvY3b17JKZ+KUuSo4eaYq4+pJQMDg7O92WMS6VSwXVdhBAkEomRrtZriQX3t12S9Dld0NjTm2R52mXpOLNBU3rIzXVRZcqqdNTZKYFQCvoclfaiQd6LygRXZYZ2z7VV3Laqit+4bwV7zhb53tEBvnt0gO8eHaQhrXP/xlp2XF/HimprwmtdlvLY3Zvk6Y4MipCYiqQlUyGhyQmfOFKapL6+jtWHn+JscSun1dtHQjljoSlwfY3D7t4keU9jVcZGEaAqkraCwZ6+BHlXYWvD+Wqd9pKBJqJEsKlKliQ9drcPoioGP7xOp8ppo2ZgN4m6JlqbMiST1pRqiocTpKOJ+5r0HVR8MBfct/Hao1gsXhUhmIkY3sUP18OrqkoikSCRSFwTIr/gglEZPWRDtYMQcHjQwpvkd0wRkDVCqo2o87Ml4yIE5N3RRUpVBFtXZPjNN6/k33/uRv73/atZW5/gi7u6+MCjB/jlrx3l+ZM5wnE67DQhKXgKAxUVVURhk1AKmic5qHpdSxPLw9Os7HiCUEbDN9qLOuE4TX1ZI2R9dTQk++CghR/C0qTP8rSHlHBw0KLoCbptjXOlKPyS1gMGXZWMESILpznU1sbG2oD6pODEsZO02Pu46caNZI2QdDo99skn4KHbH+ID6z5w2evPd3+Nu758W9yNepUTBMGs1avPNkEQUCwW6enpGelsHXY3XYwsyFtXc9LHVCV7+xIUvKk15ugKpLSQsyWd/orK+mxlzNJEXVW4b20N962tobvo8tSBPr72Wi+/8W/HWVlj8uO3LOH+jbXo6vn7pBtEPuwtaZcqIyBE4ARixH1yUigazso30nT666Q3/R5dtk7XUPVLa6ZC3lOpMYLLDMGakz5eWOFE3iTvpmitqnC6YNCQiPxznjmXwZdRU5OpSlRCKqFClVLkj3aeZOvaddzUZNDeV2Blx7e5flmKcqqWRCIx7Q7AZ88+O+rrlbDMJ57/BBB7tl+tFAqFRSGEwzeocjkazGNZFpZlYRjGokm8Lti/RUaPxLzgTv2vsCLtktJDil40EWkyNKYNPvSGZr72oRt4+O0tJHWVz3y3jQ88eoCvv9aDF4QEEg4MWvhSsKnWYWNNhU01DjVGQMHJyetRAAAgAElEQVRTr2jUXWXVW1ArOe7wvs+9zUVWpF3OlnR+0JVib1/UTTsaK9MeW+rLqEJyYMDCDQU31ZVpTnoMuFFcXVckCpIeJ+qi/fqek5hmirtW11EOVNLnnueW3FM4N/0MAKnUZd5uV8x4iVIv9PjYcx+Ld+5XIb7vY9tjN9wtRIbDNbZtMzg4SFdXFz09PRSLxQW/m1+QO3aIdtxJLSTvqcDUGnKakz7NSZ9jeYMzRYMVaYUeW6Mp6Y04Mo6FpgrevqGW7etr2Hk6z9++2MEff6+df36li/e9YSNLsiobahzSFzwFZI0ACSNx/clQWXEXUtFJnP4e/rLbaM24VAJlZOB1j6ONmVTNGiHbGsp02Rp+KKg1Q5alPARRCaehSJJ6FF/vGszz7NE+fvyuGwgVA6UywLZjf4K/4d2EyQZ0XZ/SOL1LaUo1jVv6GMownrZ0FVIoFOb7EmaVC2cTFAqFkW5awzCwLAvTNBeUX82C3bFDFG8veNP/YS8fcmJ8pSfJ6aLB3r4klWBy1S9CCO5oyfJ/PrCez757DdlMDU8cLvPVXUcYLOQuOjY7NIjjSsIxUk9RWXYH1unvgZQoIqqoubHWoc4K6HW0cWPuUTOVPzJvdUUqMgtL6ZKb621ubyyxJl3iyzsPc9PqlTTW1KMrkpvOPUqj10bx5g8jhJhWbP1CHrzlwQmPcQKHR159ZEbOFzN9fN+/qsob54Lh3XylUiGXy9Hd3U1XVxeDg4M4jnPVJ5AXtLBXGQGVIIpdTwdLjWrKDVWyvtrBC2Fff4JgSDDHE85hhBBsWVHNT92xjre2Wpzo6uXD/3KYzz7dTqkS7ag1JarUGaioV+ShXml5M1q+HW3g2EWv11s+Xjj5uL0fwvG8NXRzsKm3AhQB//pKG06o86b1S0lokrVGBxsPfpby+vcRppYAYJozYw28o3UHD6x/YMLj4tr2q4e58IJZCIRheFHYZjgJW6lUrjqhX9DCfj7OPv1d+7pshTsaSyxN+myqcSh6CkcGTV7rt/hBV4qyP/bNwwvheN5gX18CRQge2GTwlZ/ZxHtvauDxvT188IsH+P7xqPZ3ScIj56oczZuTFndn1X0AmKe+e9HrtWZkb3CqYNBe1EduRKMRyuhmlXNVNtY4I2Zo+ztKfG1fD29ev4SGdBRrX3o8Kkks3vxzACQSiRlt9Hjo9of4zD2fGfcYiWT749vjePs8MyxmMecZDtsMJ2EHBgZG4vPDQj/f8fkFLexpPUQRjJlAvBKEOO/3UmdFDo6dtk6foxESieJgRcX2xWU7+ON5k/ZiNMVpfXXUeJQyVX79TSv4Pw+spyah8dtPnOBT/3WaWs0ZSYB22pNLcYSpJbiNN5E48a2LXteUaOZqwVM5ljfpGWe9Hkcj56qsr3ZYMlRD7weST3/3NA1pnXvWNqApEuGVaDz6Jex1P0KYWQpAMjnzI2x3tO6gOdU87jEdpQ4efuHhWNznkYVa3jiXXBifHxb6zs5Oent7KRQKuK4750K/oIVdHRpL12nruNMMx1zK6oxLS8ZlS32ZzUO+K7v7EuzsTvH9jjQvdKXY0xfNK+0s6yxPu2xrKI+I5jCbmlL87QfX86Fbm/iPg3389JcPUsz3k9RCOsuTT0ba1+1A7zuE1n/0otfXZivc3VREVySDozy5OEF0IzpdMEhpIU0XXN+juzo50efwa29cgSe1qImq8xXSXjfFLT8PRIOHZyJpOhoP3vIgljp+o1ccb58/hht8Yq6MYRH3PI9isUh/f/+I0BeLxTmZDLWghR2ikkUp4ewViORkUEQk7lkjJGuE3N5YYnOtzfpqh1UZl1rTp+wrI57sq0Yx9BpGVxV+/s6l/NX71qEI+KWvHWHn8U76K8qk8wPOmvuRQiFx7IlRr7XaCBioRInUsyWdSiAYqKjs7ErxQleKkq+wMu2OPJW83lni71/s4G3rati6qpZQgnDL1HQ+i7t2B0HVcmB2duvD7GjdwcN3PjzhcXG8fX641hKms8WFQl8oFObkZrnghT2lSeosn7Olmd+1X4ipSuqsgKVJn9UZlw3VFd7QUGJ1xmVjjYM+iZ/k5qVpHv3xjdy/sY6vvnqaJ17v4/WeyT2ihcl63GV3YB17YtTp1TVmgBMIjudNjuRM9vYlODxoYqkhKS2kyghGbAxKbsDvfesUDWmD33zzCgpedPFqx6tUueco3vLzI+smEolJXd9UmUxIpsqomtVriBmdYrE477HimKmx4IUdop11IAWHc5NPSM4EmgItGfeKOl9ThsrH37aK33/7cnoLJT63M8+jr0l6nYnzBPbad6EVzmJ07LrsvRozEu0zJZ2UFmIHCk6gsKHGYUu9zdZ6e8T298+eOcO5XIXfffsqMqZG0VMRXhml9yBW43UE2RYAdF2fk9rdiUogc26OT+381KxfR8x5PM/D9ydnfbFY8UI4ljMojVM4cbWyKIQ9rYe0Zir0OtqkE5LzzZuuq+Hjb6yhxgx46uAAn3/JZtAev2TKWf02QiNN4tDjl72XUCXW0NCO9dUON9WVub7GofqSaVPfOTLAEwf6+Olbl7BlWeTSWPQUkp0vI0If5fr7R46dzTDMhUymEemxw4/FSdQ55FqOrRc9haKn8Fp/gvaSwcEBa0Tke2yNSiA4njfITaPrfba5eq/sClme8qjSA9qKxpzu2qfDhnqFP317Nfet8Dna6/Ab3+rjcHd5zOOlnsS+7p0kTnwLUbl4JJkQsDzlsiLljpidXeogebSnzB/+12luaErxc7dFFS+BhGLZRu/ei1+7jkTd8pHjLWtiB8uZYqJwDBAnUeeIa7nEMecqvNyT5OWeJHlXpXmo6uyl7hTtJYP9AxY7u1O0FQ0ODCSuyB5kLlk0wi4ELE97lH1lRsof5wpNEfzCHY381M1JVCPFz3/lGF9+tWvM2GZ5w/sQQWXUJOqKtMd12dGTuD1Fl9/69xOkTZVPv7MVbWjqRr+jQcdeykqGqlU3jozq03V9Tg2RJlMhEydR54ZrOWl6dsjGemO1w5b6MuuzFeosP/J9qnFYm63QlPDYWO1QCQQnCucb9ybTyDhXLIy4xSRpsCLXxzMlgzprYe047lxhINUqnlbyfO7Zs+xqL/Dxt62iNnlxtY9fvwmv/nqSr3+J8vU/xmXWjqOQs30e/Pox8o7P59+7jvrU+TW7BwpUBrpI1rawckkVECKEmLMwzDDD4ZhPv/hpcm5u1GMEgidPPDmjHjJPnniSR159hM5SJ02pJh685cFr3qPmWg3DuIGgx9FYmvRousBae1ONgxeKkVDnMAXP40xJRwBuKOh3VG6ut6943vBssGh27BCV/S1NevRX1HE7Ra9G0lpIxhT81G2r+PU3rWBXe4Gf/ueDPHfiEpETgtKNP40+cAzjzHMTrttddPmfXz3C2VyFP3nXGjYsOS/YnWWVPe02FTVF1cobRr6QUso5DcMMs6N1B8/92HNjWg6EhHz02Y/OWCL1yRNP8vALD9NR6kAi44Yooiabay1pWgkEhwZNXh+wCCUsTV381KsKLhN1gDVVFZanInHvdTSEgNcHrKsiPLOohB2gKekhgG57dppqZgshoNbyGXA13rO5gb99YD1VlsZv/vtxfv2bx2gfPP94bK+5nyDZQHrf34+75v6OEh957DCdBZc/fdcabll+fqSdlHCww0Urd7E51cWG5vNljZqmzasv9VgDOYZ57PBj3PMv9/CpnZ9i++Pb2fzo5inZDzzy6iM4wcVhBydw+OizH71m7QyGPcqvFdwQ9vYl6LJ1nEChKemRmsDZdRhFRA2CN9XZ3NpQ4oZaG8dXOJqfGV+l6bDohN1SJVkjoMvWFkwSdZhaM8ALBQVP4bqGJI/++Ab+193L2HO2yE/800H+7JkzdBdcUA1KN/wk5pkX0HoPXLZOyQ346xfO8QtfOYwQgr987zpuXXm+FjyUsLfP4mz3ACvt/azcfPdFI/dmu3Z9Mow1kGOYwcogjx1+bFK77SdPPMn2x7dz46Obue+x7XzzyDd55XRhXPvgjlIHH332o9z46I3XjMhLKa8pYS94Crt7k9iBwuZamzuWlNhYXbnidWrNgKQmqTZCVqRdOsv6vFfMiPloQNi2bZvctevyWuzJ0NXVNaGT2rmSxuGcxdb6MlXGVfBcNEncEF7oTLMy7dJadf5xsLfk8f8/f5ZvHeoH4PaWKt7eovHjr3wAb8nNDN7/BRwv5GhvmWeOD/LUgX4GbJ+3r6/h1+9bQeaSYaKnizoH2gZR217gjQ19mFs/eNH7jY2N8+49vfnRzUiu/LvZnGrm2+/79sif//3Yk/z+zocv25lPhQfWPzAyu3UxUqlUGBgYGDVxH0rotjUaE/5IP8RCJu8qvNqbxFCjRGnNFKawjYYfwks9KXRFsrW+POrPKpVKUVU1taY7IcQrUsptEx03Y8lTIYQK7ALOSinfOVPrToWGhM/RPLw+kKDa9FmXjTzIr3YMJXJs7LR1WjLuyJeiPqXz0PYWPnx7M1/b18t/Hu7n+ZMeZ9Ud/E77l/nw57/EC/4GIIoH3rk6y09va+KG5ssnHpV9wamcSurcC2ToRd/8noveV1V13kUdJh7IMRYdpQ62P76dB295kO2r7udTL356RkQdzg/iXqziXi6Xx6zG6rI1Dg1aKMIZKaMNJAhYkELfUdZRBGxrKGHM4OZaU6LY+4EBi76KSsMYQ3BmmxnbsQshfg3YBlRNJOyzvWOHaHfRUY7mmd5Q49CQmN2E0LBfTUINx5xoNBm6bY3XByw219pjrhNKyYk+hyNn+3j/rgfIa/V8ccPnaa1Pc2Nziprk2PmFIzmT/sM70Tt3k934Jq5b23rR++l0mkwmM8an547hxOZMifJM8pl7PrPoKmeklHR2jl1O+vqANbJjX1NVYX9/gqKnYKiS66sdqmdoxzsXBBJe6EpRZwZcXzPz369Qws7uFCkt5Ka6qDpvOKGqKXOzY5+Re5UQYjmwA/ibmVhvJmhM+NxYa6Mrkh5Hww8jc6zp1JoGMnqEG74XXrjWyYLB0ZzJ8WkmTuotH0ORdIxjaqYIwXX1Ce6/aTnBGz/Gcucwv2R+i3vXVI8r6gCF7jMkzu2k0nAjNSvWXvb+fFTDjMawQdhkGpfmmsXYKOU4zpie+6E8b43d56iczBsjpnKKkOzpS4xrGX210edEoyKbklMbqTkR0dQyj4Ehm28nELzck2Jvf2LO8n4z9a/xZ8BvAfO/1bsARURC2eNonCiYnC3pCCRLU1PbvbcXDU4WDKqMgFAKSp5CjRnghoKip2CpISU/cmwcrTxqste8JOlxpmhg+4LEBBl6Z839OMe/RWbX56gsvwu/fuOYx/qDZwmOPYefbEasvGPEX2bk3IqCpl09v6A7Wnewo3UH2x/fPqWwzGyxGBulSqXSmGGYvKfgh4LmpEdHWafT1lmW8mitclmZdtnTl+BwziRjBFP+3s8FAxWVtqJB0VMwVUm1MXtPGc1Jj9MFg4ODFl4YibsTqOQ9hZkZMjk+096xCyHeCXRLKV+Z4LiPCCF2CSF29fT0TPe0k6be8vFDwdlStJNtL03dcqCvomKpEj8UKEiWpjycQKAIydpshRtro8e66Xa+Lk95CAGni8bEBwtB7p7fI7Rqqf2Pj6Dmz4x6mFLsJPzvP8JHJ9f6LpqqlMtio5ZlzeikpJliMl2pc0lGX1xuk2EY4nmX716LnsKJoUHvAmjNuGhKNHd35ZBNtabA9TUOoRQcHrSu2kq0MyWdvX0Jyr4grYesqarMam7AUiUtQ4Pn/VBwQ62NJiRnS5P4nZ4BZiIUcxfwLiHEKeBfgDcLIf7p0oOklF+QUm6TUm5raGiYgdNOjhozQBUSbUh8y75C7xSE1wujEXxNSY/bGstsbbBZl61E/19vszzlkdJCTFVGbfoXEMoraze2VMnSpEdnWafsC6SMam1PFUb/UoTJevp3/A0icKn7t5/AOLvz/JtSYpzdSf3X309nWMe5lT+CnqyiKXHxL7IQ4qoJw1zKcFgma2Rn7RyqmPx3Iu/luO2fb1s0JZCXWgi4QyZXu4aGu/c4GlkjwFAlrRmXNVWVi3bmSU3SWlWhv6JelXYe7pCdda3pc2tDmZvq7MsG4swGLRmXO5aUuKupRIMV0JSMogfuHKQjpi3sUsrfkVIul1K2AB8Eviel/MlpX9kMoYponunGGoelSQ9LDTkyGCWCRsMLowTmpTa6gxUNCdSM8/gmRFTVMlBRR4RcStjfb7Gv/8pqw6P4JZwqmOTc6BfmzDg5Ar/mOvre+fdILUHdEx+i7mvvJ/vfv03d199P3RMfwtXSvLDxU8hELeuzzqghHsOYm93EVBjuSv3MPZ8hoU6vzv6Tb/gkzalmBILmVDOfuecz/OHdfzjyWtbIUm1WI4b+G42yX57RLtj55EILgV5HZWd3ivaiwZKkx51LStxcZ7OhOhL/ZSmP5anLd/dLkx4JLeR43ryqPFMAOuxoAM2abOWifo25ZmnKRSDnpMb96gmoziIX+j7cWOtwaNAaav11Loq3Rw0LCQIZ/TrfckEd/ICrogpJ1QRxuTozoKOs017SWZX26HY0+ioagigzPtkvlqlKlqVc2odi7QLwQkF/RR0ZRH0pfv319Lz366T2fxHr1Hcxz75IkG4id9dD7Fv2k9jdGe6oLY2aYzBN86oMw1zKcNz9yRNP8sgrj9BRvrLYe3OqmfdsfA/v2fiey94brdJl86Obx13vscOPsaVxy4KtkgmCYMRCwAkEhwYtklrIxhp7pAPTVCfeYioiCtW8PmDRZWs0J68OW4JQwrmSTo0ZTLqjdLZIaZI7l5TIJi4vQ55pZlTYpZRPA0/P5JozTVoPuaW+zGv9CY7lLdzQpdfRqDV9um0NTYEbqm0ODVoczlncUl/GCQR9jka1GUwYl6u3fBoTPifyJiVPZaCioisSLxTkXPWKSiFXpl3OlXTynsqylEe3rdFl62MKOwB6gtKWj1Da8pGRl6SEE2czmKocdbd1NYdhxuJCgb+SssiJhnpcymTq6R959ZEFK+wX2vMeGoy8Uq6vsUkOiaDrhzx7MsfuM0XaBhxCCXUpjQ2NSd64ppql2fNVYA2WT0YPOF0wWHKVNDINVFScQGFN1dVRNjtXTwyLzlJgMigCNlQ7KEJysmAQyChR6QQKm2psas2AtVmHoqfw/Y40L3WncEPB0kmURwkBG6ujJo7+IVG/sdZGwKjDpsdDVyJxF8CylEtjwqfX0a74Ua6/opKrqNSaPint8h4AKSWmOf/+FlPh0rJIRYz9s3lg/QNXLMCTuREs5CqZYWEfnpG7Mu2R1CShlHz9tR5+5O/289BTJ/mPQ32UvQAvCNl7tsjnnj3Le//hdX75a0fZc7YIRN/9loyLHSicKhicyBvzbsbXaevoiqTeujqeIOaKayIUMxqmKrmpzsYNBLVmQN5TCKUgOxR6abACbqi1KXkqipA0JXyMSZZyKSKy+ryQjBGQu0JhB1iZ9mhM+CS0KDTTY2u82pukJeOyOnOxC92gq1AJFBotf8TNtxIIjuRMPClGqm0uZa6912ea4d37hcyUHe+O1h3s7t490nU6Gk2ppite92rgwjDM8Hez1vTJ2T4ff+oEr5wpsmVZmt+9tYk3rMygXPDl6chX+M9DA3xlbze/+PgR7ruuml970wrqklClByMVXUVfYXPt/OyWvRB6HY3mpHdVPD3MJdessAORTe1QP092FE+ZBiuYsZbgaiOgvWjgh1DyFQ4NWqzLVib0qBCCkURnSpPc1ljiSM7iVMGg2ghGPh9KODCQoBII+hI+64eSXfv6E5R9hVrTH/VcQoirwvRrphlN7KfKQ7c/xJbGLXzyhU9iB5f7/N/ZfM+MnGeuuTAMMziUQyraNr/6jWN0FFx+5y0r+eFNdaPmXpqrTD70hiY+uKWRL73axaMvd/LqmQIPv2M1Ny4T5CoqdqDQVjQoeMq8eJT3OFHS9NIKsGuBhbtNW2BUGwGSyL9mX18ktufG6S4dC02BdVmHhBZyaNAcaVXudaJZjA2WT5et0V406LI1ip7CkkQ0gKTavPxxdL681xcaO1p38NJPvsT7177/sve+euxfF2R1zEXCXlHRcfnVbxxjwPb58x9dy7tuqJ8woW7pCv/jtmb+8Sc2Up/S+bVvHONfdp2jKemxMu2iCknbZPoxZhAnEHTZGmeKBkktvCoGX8w1sbDPETVmwIqUS8lXSGhRzK/fUQmmkKjXFNiQreAM7YggasBIaCGbahzqLZ/2kk5bwcAPBb2ORlILSY4SSrpaTL8WCs+dG324yUIbtn1hGKYSCPKu4IsvtdFZcPmTd63hpmVX1h+5qsbibx7YwDs21vI3L3bwG988jusHLE169Nga3hxoqxfCrp4kP+hKcWDAwgkUVqXdyQwZW3TEwj5HKAKuy7rcuaTEtoYyS5MevhQMTrGho9oMWJLwaS8ZQxPT1ZEYekvGxQ8FnWWdSiCos3y21NmjfsEXYxhmNhkvUbqQPGRs2yYc6rHY25fg5fYCB8718yf3mtyee4rk/n/COPcSyMkrsqUrfOJtq/jN+1bwUlueX/rqEXTpIIH+yuxGfaWEozmLoqewpqrC1voydzcVLyp1vpa4pmPs80n1UEdsr6NN2Q2ytapCr6PRVjRoTPg0D1XtZPQQUw0p+jpb6myur3FGFfWFWOY434xX/riQqmNs26bT1uhxNLpyRfafOM2/Zh9h8w+eRVzgg+9XraL/jf8br3nrpBKQQgjes7mBpozBx586ya99/QA/+6at9DnaSLdnIKMd5UzupLsdjS5bY3XGZWX62oupX0q8Y58nVAF1VkDvUIJnKliqZGONzcZqh+urnRHP+Uog8APBxmqHjWOIOkS/hFeT6ddCYLzyxypjYXjIBEFAxfM5VTAxhMcPnnuKL5V+mk2llzh8y+/z7Dt3cuzHfsDAm/8ERyT4r72dPLu3jTCEg0OzQSea63nn6ix/8d61lL2QL718msO9IaEE2xfs7ErN6Pg4KeFUwSCthyMeNtc6sbDPIw2WjxuKK65vv3iNyIPiQvE+mjORQrCxxhl3l3W1mn5dzexo3THmsO2yV14QcXbbtjlXisJ0u/fv5pHgU1Sbkm+/5Xu8uuxnOSOW81JxBd/PPsA37niKs9W3cWbQ5YUDHXSW9ZGSWzcY/7uzqSnFF96/jtCz+beD/TxzqsL+gQRuKDhX0mesxr2volIesRGekSUXPLGwzyN1lo8mJF22RltRZ1dPYto+G3lXocfRWJV2R7oHR2OxljnOBQ/d/hDVZvVlr3vS42PPfeyqF/dyuUynrWOXC/zEsV+lRnU48/Z/5ECwhpQWcFdTkZaMS1ILCVWDpmUraRA52nsKVAoDhBIODlq8NhCF8QIJnWVtVP+lFTUWn33nMlK6wj/s9TjY7V7QHDgzu/b2ooGlShqm2IQkL5mzsBiIhX0eUQXUJ3x6bJ0TeZOCp1LwpvdP0mlHI7+WpSZ+JNX1Ky+3jInIVXKjvh7KcMyh2lcDQRAw6EiKroL66he4XjlN331/yuvKDbihwA4UVAGrMy4bayKzuKWZkDtvWct6+2XWnPh7llgONabPkUGTozmDnV0pDg5aQ5Uol2+Zl2YNPnqXhen38w/f38O+tm6WD1lkFKf5fc+5CoOuyvLU1Hfr/RWVV3qTdCygYSETEQv7PLMk4RNIMFSJIJrucqVIGXWdBkMDh+stH32Cf9k4DDM9xus2dQKHT7/46Tm8mslj2zZdtkZv50k+OPjX7F/ybsLWN3MibyCQ2H70xLezK8m3z2Rwg2jARjpTxR03rODets9y+7E/4qZaGy+MGu1Cot6KYSfT0Uobl1cp/H8/vIyNjQaf/M9TvHLiHJoSWXpMh/aigabIkcIBiGry9/dbE5YSDz8dD/eTtBWNq86ZcqrEwj7PVBsBzUmPTTU21WaUTD1X1ni5JznpGveOssbu3iS7epJ4oWDJBJ12cRhm+kzkIZNzc1flrr1YKtNZUmk9+c8MkKL6hz7BibxBX0UjoUkGKhq7exMcHLQYcDR0RZJQI6WurLyX8rofIbXvH1gVHB9qQAI/EJwrG9iBwusDCfaPMQIuZap89t3XcXdrls8+08brbZ302hqdZY2Cd+WhkLIf9WgsS3q4YdSUBFFPR4+j0XlBA6AXRiEjKeF0Ueel7iTPdqY5V9LoczTSejhyU1sMxMI+z0SGZBWyRkid6VPylZF63PG8ZUqewss9SbpsjZMFk4QafTF1RVI7icHCV7P3+kJgMnYFV1tdu+/79Jah79Rr3FL6bw5u+BVCPc3LPUlCGZXPWmpIZ1mnMeFzZ1OREMFLPSmO5EycQFB4w68iFY3qlz/LLfVlbq4rs7HGGZkkZqkhbUWD/9vem8dJclV3vt8bS0bkvlRlLd3V1d3V+6aWWq0VITYbY8SIVYAYeeAzGMZv7LHw88yzEPI8GTySPPMGm8EsZsYYmMFYBmPAbsAyIIx2qaWWet/V+1Zr7ltk3PdHZJWqu2uvrMqs4n4/n/p0VmbUjXszO0+cOPec3zlbM6quhPIoD94yNB66o4e3rU/wjWeP8vypQQ4M2uzsDbCzLzCtuo5TWR9CeEkIr/QH2D9oky5rI80+Tme9/gVSwjMXgzx7McjeQZvjaQtTkwQMl0MpGwlsjBUJGi5HU14LzV19fnb1zV+P0nqzOC5Pi4QW2+Fo7T9dxfWkgoeNdF/RU4oc1rQ5n/fik/trG1jbWj0FSQmTxhoXivZ6s9MZ7JxQ0rfZ8toLhQIXMw5tl57iYslk1a3v5RfnQ1zI+wgZVbbGC4QMl5NZH9e3Fkj6Hdr9DqeyPs7lTM7lTPzGStZs/X/Z9OJ9tFyzi0j7VgCivioVV3A8bXE07TV2j/mqnMr6GCjp3NKeG0nHNTTBH751OWFL57s791PJt/Phm7o4k7M4nKPfRpIAACAASURBVLK4sS0/6VpyjleA1xGocDRtUXYFmvA2datSsDRY4WzO5FLBwNIkJzIWVQlLAxU2xIt0BStUXMGufj+WLgmaXtX2/iGbwylr5LuUdRqjczNblMfeRAQMSU+4xOZ4gbjPGfE8Bko6ewf87OoL8GrG69naWzSI16pPlwXLRH0uEZ87ppjZaIQQBAKB+VjOomeyXqzNpvqYyRU4cXg/WauTn2z9In9/MsGRlI2puXSFKgxVDNbGStzclh+RufUbknWxEje15VheUxM9uOQuqnaM0EtfHBnbb0giPpeeSImYr0qmovFyv5+LBWOkQcxoNCH4vTd08ZEbkuzYe44v/cthOvxFco522YbqlfH6SwWDQ0MWR1I2VSkZLOmkyjrrY0Xa/RXyjoYhJKsiJUKmy4mMj1drsfOk7dAeqLAs5FVo+3TJDck8WxKeZk7QdLm+Nc+meJEb23KI2vkWIsqwNxnLwxUiPpeEXfX6sxZ19g96XW3a/A4nMj4OpSyKVY12f4WN8SKro9MrylBhmPowWS/W27tun+cZjY/jOFwcKkD6Asd9GxgKbuR83kQTkrhVJWC49Jd0dOFVRV95Q+c3JCvDZZYFy5Sw6N38f2Gf+heMvv2XHRfxuXQGHXQhOZM1CZtVDM2rsL4SIQS/efMSPnF7F48fHeKhHx+kUKmOxLnP5kyevBDifN77faDkfRfO500GijqOq+FIwTW1HqbD/RISdhVdQE+4RKGqcTLjiYGtjRZH9hCGLzSaYOROYvj3Nr9DwJC15jsmh1MWuwcWVoW2MuxNSktNiXHPgB8JbEp4FaYtlsP5vInAC91MF5UNU1+Ge7GOVbT06KFHm0b1MZcvsG/vHspGmGKoi45AhWsSBa5tydMZqBC3qwzUqqAnKjyK1UKDZ3vuxvWFCL305auOWRctsjleJGFXCZkuLVaV/gkqrD9wXRsP39HD0d4c337xDHsvuZzNmRxJWWjCK7g7nTXZN2ATNF1u7ciyLFTG1CRrIqWRcGXE57ImWmJ5rfo0YXmy1nlHoyNQoSdSpjtUpljVRrpFTUSb36FYFZzNmfQXjTFTOZsVZdibFL8hWRKosCxY5qZknqAhEQLWxUr4NM/L8k3z01NhmLnjF2d+MebzzaD6KKXkyMU8g3nJKWsDrfEYYdNlXaxIVWq0+R06/F5mycv9fp66GGT3gE1ujMpQvy6xdcmAjJDfeDf2iZ+gZ85cdoyheXeeS4MV+osGLZZDxRWcyvroL469OfrG1TH+4v1rKRSz/N3eIX54zCXiq7I96YVEjqYtAqbL5niBgVrGS8KujujPDNMVrBCqxcSFgOWhEpbusixYxtCgJ1JmTbRIqSomzYBptR1abWfkQjGTRjmNQhn2JmZdrMTqaPmyzk2WLtmezLMxfnXDh6mgipLmhmZWfSyUHQ4dOoqr2RStFsqutxHfX9Pw7wpVSFhVBJAu63T4K6TKOvvGSFsUAmKWw1BZJ7vxQ4AgsPebY553WDJDFxKj1oZy94B/3KKktckAn79zCWGR4a+f2sOPXj6ILqtsThTZECtyTbzAkbTFgSGbgOmyLjq+DhJAf1HnWNqixa6S9L+WKdZSCz2dyU38XTA02JIosiJcxhByxkqsjUAZ9gWIpctJC5DGwu/3qzDMHDHRRmmjs2NO9xVwLh1iSE8QCoYwhKRY1egvGawIl0lYVWxTsD5e5pqWAhviJdZGS+QcbSQ3fDTxWgZM2l5KceVbCRz8DqKSu+q4FttBF9BfMrihLc/1rXk04RUEOS5jGspkyORP39HBB7fG2LGvn48+epD+dIa4VWX3gJ+BosGaaIltLYWRzmJj0VfU2TPgx3EF62PFES8evIvT0mCFdFm/alN3LDThhXmUx65oSlQYZu5oVtVHKSWnj+ylaMTImC0sDTlkHY2K6/XAXZOAZDJJe3s71/W0sH5ZC36/nzbbGckqubJQLurzvN90WSe35TfQyhn8R/7hqnN7CqbOSMgj4nNp81e4kDfYPeBnV7+foTEasxua4N/duoTPvms1g3mH3/ruCb70okOmorE5URi3dy9AtqJxKmuyf9AmZLpsT+bpHEOTvTNQIWC4HB7VhWwiYj6vxqS8QDIfF5xhDwaDIx1/lPc5dXRdV2GYOWRC1UencaqPxVKZ8yePMWB0EI3GcSW02w63d2bY1uWjtbXlMulmXdeJxWIkEnFWR7yNRs/zfW1MW5f4NEmqrFNpv45KYi3+g98Z8/zLQ2WkhN39XiZKyHDJVHQGaxk4Z3PjZ2jdvDzCX//GRm5du5xnT6b5+hOvcGkoPe7x2YrGi30BjqUtbF2yJVHAGMfC6QLWRr2smRO1LmTpssaF/NjdnobTiAfnuGFIvVhwhj0UCtHW1kZ7ezuxWIxAIKAM/SQIIQgGg42exqJnXNVHt9KwOPvZUyfQnByDWis9cY2so9MWcOhuDRIKjd/+zrZtVnVGWB8rMlTSOZx6Ld1PCM9rT1c0EIL8+vfh692L0XfgqnFCpsvmRJFCVeOVfj9H0xalqiBguCwNluktTJxtErQM3ryunQ9sCdKbzvPRRw/xx4+doD93uWyGlHA4ZaELyc1tOW5sy2ON0QpyNHHLa913Juujt6ize8CTUnj6YojUFXcSYV8VW3c5MGhzMjN9B6mvqHM660klzwcLzrAPo2katm0TjUZHDH00GsXv96NpC3ZZc4KUUmnDzBPjqT42Is7uui57X3yGC/YGCCWpuOC4grUJOaULvWVZrOsM0hWq0Fu83JON+KoUHI1yVVBYcydS9xE4+O0xx4lbVW5qy3FdS4FrWwqsj5WouBrttmecT0/Q7HqwZCCBN/fYPPpvNnHP9e3806FB3v+Nffzlc+fJlbyw0IWCQaqsszpSmjD2fiU9kRI+XbJ3wI8rBZvjnqTwuTE2VoOmi99wOZ6xxs3uGYuqhINDNkfTFs9cDHIpP/f2adFYQE3T8Pv9xGIx2tvbaWtrIxqNqvJ5vC+outjND+NtojYizn6mN8NhuZrT9gbwhTib8xH2uWzqCk/5OxEIBOiOabgSLhVM9gzYHByyiNQ2I9MVDWnHKK58qxdnd4pjjmPrklgtr3xpsExVQsbR6Qx4pf9XbmKmyxqpmu6LoUnCpkvQ0vnt25byzXs2sH1ZmP/17Hne87W9fOOFC5zLati6e1X642SYmqdMKYA10SJJv0Oyti8wem/hQt4cySIyNZe9AzblKXa0vFSrvl0fK7IsVCZmzX2gftbfdiHEMiHE40KIA0KIfUKIiWXv5gld1wkEAiQSCdrb22ltbSUcDo/EmX9ZjL0QYsJbbkV9uXfbvRji6jhsqpya12KlqgtP7DxAn7UCxwiQtKvc3Jbjw1s1DH16X/tlySghU3IsbdFX9BpqBM3X0iMB8uvf522iHn9s0vEiNc/3YsFkdbREwPBCHMN3BFXpFebt6gt40hm+6mX6R91xmz95xyq++sF1bGoP8qWnz/E/nurl6WO99Gan3xqv1a5yW0d2ZJPVk9L2dG+euejJeJzK+gga3gSzFZ3jGYufngtf1j/BlbBnwOZk9jVvX0o4k/P+tsPvsCpSxjcPyTX1cOMc4PellBuAm4HfFkJsrMO4dUMIgWmahEIhWltb6ejoIB6P/1JsxGqapjZN55E7eu4g5Bv7Qjpflag7ju/gV7/zVh7p+xiP5z5MUTzGW5ZmuK4TIsHpdy3SNMHqNk/f3K+7VKUgV9EJmVUuFQz6izqlzptwIsvxH/zbSccTwjOeQyWdUlWwJlqi7IqRjcnegkHZFVi6i+MKEtbYXviG9iCffddqvnjXBpYnAvzk4AXe87W93L/jOM+cSFGdhrj66E3WqK+KpUvO5EwcKTiR8VGsClZFSmyIF1kSrNAVLJOt6LzUFxgJyxzP+OgrGryatsjVDH664mnfLJ0gk2cumLVhl1Kel1K+VHucAQ4AS2c77lwihMCyLCKRCG1tbbS1tRGJREY0VBaTkQ8Gg4tqPQuB8eLsMPeVqDuO7+DBpx+kt+CpThblJV4cephXBh4jGh1b02YqrEn62NAq2driqYgOlnVWhsu4CHYP+LlYNMmvfy/W+Z3oQ69OOt6SQAVNwImMRdRXxRCeoNdoD3d7Ms+aaIn2K9IVpfRy4IdDJUviYd60Js7n37Wc91/bxq6zWf7v7x/jPX+1l7945hxnU6VprVUTXjZPq+1wU1uO1ZESS4NeEVfSrnJNwtNnSvgcbL3K3kFP4vd01ke730HXJEfSFlLCxYKJLpi0R0K9qWvgVQixArgOeK6e4841w2GblpYWOjo6iMVi2LaXBbCQjaJqqNEYJlN1nMsMmUeef4Ri9fI4tyOLfPPVvxq5O50Jpg7XdAXxG5KwWWWwpNNSC++ETU/qN7fmXUihEzj03UnHs3TJ0mCZSwWD0znTK5gq6gyVvfaQXUGviYeU0Ff0egK/XEuZPJc32dXvH+m+lCrr6ELSEzf43dd38YOPbuaht69kVYufb7xwgfd9bR//9m8O8s0XL3I+PTUjvzRYYUuiiE+DZaEKa6OlyzzuFstB0zwZ4GElzKXBCutiRVaGywyWdHprYasW2xk37XKuqFtSphAiBPwd8Akp5VXJpkKIjwMfB+ju7q7XaeuOEALbtrFtGyklpVKJfD5PqVRCCIFcQMr7gUBAbZo2gHu33ct9T9w37utzlSGz4/gOhkpDY752qXBp1uPruk4oFCKeLnMq68NxvRBGd6jMvkGbS/oS4stuw3/kB2Ru+ARoE19IukNlzuW9fr95RzBY8qEJSaqk02o79BUNjqZfCx0ZmmTPgOeoaALO5Uy6Q2XSZY2Izx2Jw5u6xpvWxHnTmjiXMmUeOzTAz44M8edPnuXPnzzLhvYAb1wV43Uro/S0zEwUL2y6Xi5/xWBT/PIL6ZJAhXM5k4NDXvhqvr11qJPHLoQw8Yz6N6WUY16upZRfkVJul1JuTyaT9TjtnDNs5Ic3YCORyGXFHM2O2jRtDBMVK8Hc6bQ/8vwjc37OYDBIwnaRMCLF22o7BAyX0zmTwtp3o+cu4jv7zKRjmRpsaylwQzLP+liRdEXj2UtBzuVNjqUtLyNGeNpIN7XluLktR8SsYukuWxMFqlKwb8BPtqITMcdOUWkL+7hnewdfvXs93/nIJn77dUtAwpeePsc93zzAe/5qH//f46d55kSK0lRKUGuIWlVtf1HnQv5y5UpNwJpoiapkyh3N6s2srZTwLnd/CRyQUn529lNqTjRNIxAIEAgEcByHXC5HoVBoWg9eeeuN5YGbHwC8mPqVpEpeP9SptNebKhN56zB5j9apomkaXQk/R1JVTmR9tPkdNAEdgQrH0xaprjcTtaIEDn+P8rLbJh0vWEubXBaoYAhPAylsVjmatkZkd0d3MLq2pTDSJWw4LTFpO3SFJs+GWRq1uGd7B/ds76A3W+aZE2meejXFjv39/N3uXmxDY1tXiBu7I9zYHWZFYmJvfllNb+bAkE3OKbMq8toc4laV7lAZS5eTdjSbC+rhfr4O+A1gjxDi5dpz90spf1iHsZsSwzCIRqNEIhHy+TzZbBYpZdMYeZXi2ByMZ9zzTp4/fOoPgan1Tp0KE8Xto75oXS8ioVCQnkgfu/ttzuVNlga8jcXjwEA1QHLV2wkc+i6ilEFa4UnHGyzpvNLvpyPgsDRQIOt4eummJlkZuTwmLgQM28n1sSIrqtplAl9TJRnycefmVu7c3ErJcdl1NstTr6Z47mSap094MsStQZPty8Lc2B1m+7IwydDlhVRB0+WGZJ69teYfK8Ply4z4aEM/38zasEspn+S19/qXiuFS/UAgQKlUIp1O47puww386DRORWMZT6d9WGagXgZ3ot6rn7zpk3U5xzBCCFa0BjiZcTiSsjiR8dET9voEDJQMCuveTXD/t7CP/5jChrsmHe9SwUAXkts7cwQMSV9R41DKJlPRJwxjGBqEtNkX+1iGxs3LI9y83CsiO58u8cKpDC+czvDsyTQ/PjgAQE+LXTP0Ea5dGiLo0xHCExTrKxoMlHRa7fkPu4zFwgkYNzHDsXjLshpu4JUuTHMx0UZpvTZRJ0qfrLe3PkwwGOCalov0FnQu5E0OpWykhIGiTql9C06sh8Dhv5/UsEvpyfp67fm870uL5dJiOWQq+lXKkvNBZ8Tizs0Wd25uxZWSI70FXjid4YVTab63p4+/fbkXXYNN7UGuXxZm29IwwrC4VDBJWNWGhF6uRBn2OjLawBeLxREDP5/nj8ViKrbeRHQEO8b1puu1oTlRGKbe3vowQgjikRCGyNDudziWtjg0ZFGoaqQqOuF17yby3H9HT52kGl0+5hiOC8WqRqkqSISdUWPDbR1ZXuoLcDxtsSUxtkzBfKAJwbq2AOvaAtxzfTslx2X3uSwvnMrw4pkMX3/hAn/1/AU6W1Ks6kiyJOpjU4vkzcsFhn61hZ8vX08Z9jlgOH/ctm1yudxIDH6uMU1zJP9e0Rzcu+1eHnjyARx5eZGNKcy6bWhO5PnPhbc+TCAQIJvNoiFZHSkhpeSpiyGeuRjk5u672Pj8n+I//D2yN1y9zvN5g0ND9kgP1ZYrQi5xy2VVpMyrGd9IOmMzYBkaN3RHuKHbC9tkS1V2nc2w80yBQ4NpnuqDnact/us/nWBLZ4Drl4XZ3hVmTdJPRXoKl9cZgsgcSwcpwz6HDG9iBgIB0uk0hcLM2tlN9Vyx2NWSsYrGMmxYH37uYVLl4YpUQUW+JuU7W+Pb4u+gr3D1XUFnsHNW406GpmkEg0Gy2SxCwNpYmQuFEhfyJq8Uu2DFx1h7+Ptkt/8HEJffRZ7N+ZB4G6ch0x1TYrcrWOZU1uRc3iTim1716HwRsnRe3xPj9T3ed+9sxuWxEz4utjq8cvICX3jyLABhS+f6lUtY2trGqpgBTL6pPBvUPfs8oGkasViM1tbWOdNtSSQSasO0Sbmj5w6evPtJPnX9H6FhAZ4RO587z4NPPzgriYHvHt7BYGHwqudt3a7bHcFEXLmf0xPxSvFjvir7lnyAkyzDd+75y47JVDQyFY1VkRLLgmVWjJOqaGjQ5ne4VDCn1OWoGVga1tjaafLG9V389T0b+Yff3MIfvW0Fb1wdY6Ds4/HDFzg/dHUbwXqjPPZ5xDRNWlpaKJVKpFKpuqVIRqPREZ0bRfPy1YNfxuVyz7NYLc44O2bH8R18+tkHqHK1SNY7V79zTsMwwwzLZQ/fjbbaDkeERcJy8HV0ceDkr7LtyL8gl9zMyYyPwZKXSTKc++6bxLVcEqhwPm9ysWCyNDj/FZwzoStYYd+gzYEhm/UxeOu6BDesSPJyv5+kmea6rrlPblAe+zwzvMHa1tZGKBRCCDErPZpIJKJ6mS4QxouFn8+dn5HX/sjzj1CVYysfjpdmOReMrpmwdUnErNJXNFibcDHiXezKdvDMWZOTWR+OFKTKOknbmdSog1e6HzJdzuXNedt4nC1J26EnXOJiwWDfoI0r4WzORBeSJREDc5qyyTNBeewNYnT8PZfLkct5t2dT9eCFEMTjcSxr+jKsisYQtaLjVoc++PSDwNTj7ZNVms5nxybDMEZSfQESdpWTGR8C2Li8hczJb5NObSGy6gYSVpWs4zXFmApCwLJgmQNDNpeKxrQbaTQCIWB5uIKuwZGUxQu9AfKORsJyeKU/gGkJZiG0OSWUx95gNE0jHA5fpUUzlhc//Jzf7yeZTCqjvoDYcXwH2XJ23NeHQzJTHev+J++f8Ji50qMZj9Fee8SsIvEaUviWbGa9OMr1x/+MFruKEJ4Xbk7D8rT7HUKmy6sZH9OQWG8IFZeROSZth7DhsH/Axick5ap3QUsG5n7DQHnsTYIQYkSLplqtUi6XqVQqOI7noei6PpLOqPLUFx6fe+lzV6U8XslE1aPDDOutu3J842Bq9UulnCo+nw/DMHAcZ0TbJV3RiFmCwtp3E37hz9DTZ6hGuqY9thCwMlxiz4CfSwWDjkDzeO1Setr0QcPF1CQ7ewMYtXZ7uwf89BUMUhVPjjhgumyIFdHF3DtkykI0Ibqu4/f7iUQiJBIJEokE0WhUCXstYKYaGpmsw9LnXvrcVXrroxEIPvO6z8zLxumVhMNeL1WfLrF1l0yl1jZvzZ1IBP4p6LSPR4tVxa977fTmElfCmZxJqXr5HbOUcDprkiprI79fyBs81xvglX4/+wdteosGxapGrqLxUl8ADUj6K8R9zojxb5unUJKyEgrFPDDV0MhEHZZ2HN8xqVf/8OsfbohRBy5rHB/xuaRrRtANL6G07PUEDn4bqjPLbBHCS30crLXTmysuFgyOpCx29fspjjrPQEnnaNpiV1+AvQM2O/sCHBiyMYSXuTNU1jmSsggYLhvjRUKmyzWJAiBYFyvREaiwOlKcN7kBZdgVinng3m33YutTqwq+/8n7uebr1/DW77x1xMh/bc8O7n/igUn/tlFGHV5LCBBCEDarFKsa5ZpxzG+6Gz3fi33ypzMev93vIPGMb94Rdc+SGW7LZ+sulapgz4B/5Bwnsz5sXdIRqJAqezrx62NFrm/12vcFDZeKK1garNDmd7ghmQcBFVfQFSpjCOgvzV9mj4qxKxTzwLDB/dxLn+NC7gJCiHHj5MPPn8+d54EnH+CPn32EbGX8DJhh5rrSdCoEAgEymQyRWpw9VdFI6lVKy27HCS0hsO9bFHveNqOxg6ZL2HQ5lrY4lrZYEy3RVcfc9qGyTraisS5aRNdg/6BNf0nHEF77vdfOd4WUMLA2VuRkxqJjVLekoZIXimq1qwyVHM7kTHKOxlafYI4VBZTHrlDMF3f03MFj73uM3R/ezUO3PTSlv3GkMyWjPl+VppMxrC4aMquYmuTAoM3ZnAmaTn7T3VjnnsMYPDrj8VdHi3SHyoRMl7O5+nnAroQTGR+mJmkPOCRtB1t3OZGxODhk4dMknYHxLyIxn8vWlsJlvU0Hyzp+3cXWJRvjRdZES+Qq2rxk9ijDrlA0gDt67uCuNeO3z5sOmtB48NYHGxqGGU0wGMTQ4PrWPBGfy5GURcWFwrr3IjWTwL5vzXjsmM8TB1sWLJN3NAbLs5PRkBKqEk5lfQyVdVZFSui1ythloQqZikbZFWxJFBhDrHFceos6/UWDZG2zVBNeRerN7Tki1txbdmXYFYoG8Z9vfYD3r33/rMYwNZOHbnuoaYw6vCYz4Dck3aEyEshUdFx/gsKqX8d/+HuICXL6p0LS72BqknO5mWXJSAnnalktvzgf4tWMj3a/Q8eorJXOQIWOQIUtieK01CWLVcHBIZuw6bIifLkOznQuDrNBGXaFooE8cfaJWf19o1IbJ2O4YClcazKdqXimJr/pQ2iVHP4j/zCr8XUBHf4K/SVjRgJhvUVPNtgUkpXhMmuiJdZGi4yuC9QFbIiViE+zGfXprA9XCjbGp+fl1xNl2BWKBjKb0v/OYGdTGnV4TWbA1CBguGRqIZNK21bKyc0Ed38N3Nm1kUvYVVzpbWxOlwsFA0uXbGstsCJcpitYuSw+PlMqrqc132ZXRjpCNQJl2BWKBjLT0v9GVJdOl3DY0xwPmy7pWrESQpC79mMY6ZPYrz42q/GjPq8N3UBpesl95apgoGjQ7q8wC/29MTmXN6lKQVeosUqUyrArFA1kOvntw8SsWNOGYEZjmiY+n4+wWaVUFSOFRcWVv4oTW0lo11dm1StOF55xHyxNzWMvVgVHUhavZrwmH/UUFBuuTD2ZsYhb1RFZhUahDLtC0UDu6LmDB299kM5gJwJBQJ9Y9u/h2x7miQ8+0fRGfZhwOEzE54Vc0rU4O0Ije+3HMPsPYJ2YecESQMJyyDnapNWoroR9AzZncl5HplBNDrhenM8bHE1bxCyHDbHG9WgdRhl2haLBjM5v/4tfeZIb28ZOg/zAug/wjlXvmOfZzQ6fz0fcr6MJGBoVMimsuRMntpLwC382q1j78MbmwARee66icShlka7obIgV2RQv1t34XiyYBA2XLfHimG3+5htl2BWKJqI7Cr973QN8+pZHRrz4zmAnj7z+ER64eXJJgWYkHovQale5WDCoDts8zSBzw72Yg0fxH/n+jMcOGS5Bw+VkdmxJ39NZk+d7A1zImywLlukIOLTVZIDrRblaax7id+oes58pSlJAoWgiEn7vZ2vHHbx77cIIt0yGz+ejO5Ll0kWdvlHNMoorf41y2zWEn/9Tiit+FWlNv8GzELAqUmL3gJ9zefMyiYFUWeNY2qLVdlgTLWHPkSfdV9SRePrrzYLy2BUKxZyzPBnCr7uXFxQJQfq2P0TL9xHe+fkZj52wqsStKq9mfAyVXzNpB4dsbN1lfaw4Z0YdoLdo4q/dOTQLdTHsQoi3CSEOCSGOCiHuq8eYCoVi8WBZPpZFPaGt0XK4leQW8hvvJrDv/2Be2DWjsYWAddEiPk3ySn+AExkf+Yog72h0BirT6tY0XSouDJa8Hq7NEoaBOhh2IYQOfAH4dWAjcLcQYuNsx1UoFIuLnqTXdH2gePlGZ+bG36MaWkLsp7+PKKVnNLbfkFzXmidhObya8fHMpSCu9J6fS/qKRtOFYaA+HvuNwFEp5XEpZRn4G+CddRhXoVAsIuJBk5Cl0X9FQZG0wgy95b+j5y8Re/wPwJ2ZkfRpsCVR5NqWAgVHo1CsEB54BevET/GdfhI9dXJWefNj0Vs0sHW34XnrV1KPzdOlwOlRv58BbrryICHEx4GPA3R3d9fhtAqFYiEhBHS32Bw670kBjO4mVGnfSvqWTxJ96jNEn3iQ1O2fYSaxDaP/EMuO/iOhzHUMEmHZ8Y9iytf006uBJPl17yW/6UO4wbZZrcdxYbBksDRQbqowDNTHsI+1pKsui1LKrwBfAdi+fXvjEz0VCsW80xHWOdprkSoXrxLXym/+12iFPsIvfQlRyTP0xofAmEJVrlPCf/xHBPZ9C9+lV5CaQXDNFs6GN9L3a1/GiFD6xQAADnJJREFUCEQQ1RLGwBHsUz8ntOsvCO7932Ru+n3yG++e0QVESjibM3ElI9K8zUQ9DPsZYNmo37uAc3UYV6FQLDJaA2DbJkfSNitCpauaO2e3/y7SDBB+7rO0Dhwmfct9lLted7XxlRLz4i78R36A/9iP0EopKtEV7Lzpy4R6rqdaaEdkLM60RkdSICsd2yhs/AB66gTRJz5N9MlP47vwEkNv+C9gWFNegyvhcMrifN6kxXJGukU1E/Uw7C8Aa4QQK4GzwAeBD9VhXIVCscgwNNi+RGP3OZv9gxoBI3d5sVBNJMxJrCPy1Gdo+eFv4kSXU1p6K9VgO6JaxkifxHfhJfTseaRhU1zxFvLr3sdQ+y0c7g3RUnGQeH1Xz+ZMlgQql4V9qtEVDNzxlwRf/p9Env8sWu4iA7/+FTD9k85fSjhSM+rLQ2VWhJsvDAN1MOxSSkcI8TvAPwE68FUp5b5Zz0yhUCxKOkIQXWnyg30VeosGIbN81TGl7tvpXboD/+Hv4z/2I/zHfohWSiERuME2ym3XULrhXoorfgXp87Tfh3KeORssG0jpdSwaKntFUVfeGSAEues+TjXUSexn/w/xx/4Dg2/7Iui+cectJbya8XEub9IdKtMTuXrezUJdKk+llD8EfliPsRQKxeLHbwqWxGwupRxWhMbxenUfhQ13Udhwl/e7U/QMrxg7mW+wbKAJRqQF2v0Vyq7gWNrH6ZxJ2HTpCZcu010vrvlXpKolYv/yAJGn/pj07Z8ec2wp4VjGx+msjyWBCj3h5jXqoCpPFQpFg1gW06lqfvLVKTbKMOxxjbqUrxUKDYtwBWut6cqu5rXCy5m82Bcg71x+FSmsfx/Zaz9G8MDf4t//6Jjjn82bnM76WBqssDZaasrwy2iUVoxCoWgIHSHw+Uz6yz6CRmHG4xQcQbGqUXEFccvrhXomZ+LXJVGfQ5udRQjP8O8btHm5P8DWRIHgqNh+5oZPYPQdIPr0f6HSsQ0nsYaKC9mKTqaicTxt0WI7rIk0v1EH5bErFIoGYRuQCAiyhBEztJbFquD53iAv93sbn3GryvJwic3xIr6a5z48dNyqcm1LAVnLarkMTSf15j/B9YWJ/ew/cXRQ48kLIV7u93MsbRE0XTbEigvCqIMy7AqFooEsCUHe0dHsyIyM+/m8iZSwPFRmVcRTcPRp4+eWh0yXpcEKqbJ+VXMO199C6g1/TDqT4+KxPbT5Ha5JFLi1Pcf21vycas7UmwU0VYVCsdjoDAMChqoBbHt6LQJd6Rn2uFWlJ1Kme4p9RpO2g8STA7iSQvebeHH1fyR25nE2cpAWu4qlywXjqQ+jDLtCoWgYtgEJG85lIBqNYhhT3/YbKHle95LA9BpHB2tt8S7kDfYP2hxOWSMSMmdzJv3dv87m3C9oeeqP6q4tM18ow65QKBrKkjBkSjBUFCQSCTRtambpXN7Ep0laZqCsmLQdMhWdiwWDs7U+qGUXTmR9xEMW/mvfhXX2GexjO6Y9djOgDLtCoWgoXRGwDNh7CTRNJ5FITBpvL1YFA0WDziuqSqdKZ6BCu9/h+tY8LbbDkZTFzt4gVVewKlIiv+EDlJNbiDz9yIylhBuJMuwKhaKhmDpsTMJQEU4MgWma4xr3bEXjQt7gfN7rxNQ5zTDMMJYu2RgvEvF52S5LghWivirrYkVP4kDTSb3+QbTiwKy6OzUKlceuUCgaztIwnE57XnvBgYTfR9FsYSiVotWuoNds/KGURbrsFTQlrGpdGmmYGqyNlq563kluIr/+LgL7/pr8xg/gxFfP+lzzhfLYFQpFwxECblwC3VE4NgAvnIU9fSYnSnFezXg553lHkC571aUh06U7NPdl/dkb7kWaASJPP7ygNlKVx65QKJoCXYOtHbA64TWx0DV4dVDn+ECMofIAgyWBAFZHS3PanHo0rj9B5vrfIfrMw1infk5p+Zvm5byzRXnsCoWiqQj6IGpDyOfF3iO2xvFSgotFm5hVnTejPkx+04dwYj1EnnkEqs0t/jWMMuwKhaJp0TW4uQuSQQ3dCrCqdXxZ3bmbhEn6lvswUicJ7v0/83/+GaAMu0KhaGr8JtywBN68UrCmPUBrayu6PkVFyDpR6r6dYvcbCL30RbRC/7yeeyYow65QKJoeIbzQjBBeOmQymSQcnrl42ExI3/IHCKdI+Pk/m7dzzhRl2BUKxYJDCEEoFCKZTE5bY2amVGM95Dbfg//gdzD69s/LOWeKMuwKhWLBous68Xh83gx8dtu/x7VjRJ56qKnTH5VhVygUCx7DMIjH47S1tREIBBBCzEmYRloRMjd8AuvCTuzjP677+PVCGXaFQrFo0HWdaDRKe3s7kUhkWmqRU6Ww/n1UWtYTfva/eX1YmxBl2BUKxaJDCEEgECCZTJJMJgkGg2iaVh8vXtNJ33o/RvYcoVe+Ovvx5gBl2BUKxaLGMAwikQhtbW20tLSMGPnZUF5yI4WeXyP08lfQU6fqNNP6oQy7QqH4pUAIgWmaRCIR2tvbR1Imh8M10/Xm07d8EqmZRH9+P7jVuZjyjFGGXaFQ/FJiGMZIymR7ezvRaBTbtqe88eqGOki/7lNYF3YS3P21uZ/wNFAiYAqF4pceTdPw+/34/X6klDiOQ6lUolgsUqlUEEIgx0hvLKx5J9aJnxF+/rOU27dS6dw+/5MfA+WxKxQKxSiGQzahUIjW1lY6OjqIx+MEg8ERKYMRj14IUm98iGqki/hPfg89c6aBM3+NWRl2IcR/E0IcFELsFkL8vRAiVq+JKRQKRTMghMCyrJEN2Pb2dmKxGIFAAF3Xkb4QQ7/2BYRTIvGPH0XL9zZ6yrP22P8Z2CylvAY4DHxy9lNSKBSK5kXTNGzbJhqN0tbWRltbG8GV28m962vo+Uu0fO9ujP5DjZ3jbP5YSvmYlHK4RfizQNfsp6RQKBQLB13X8fv9hDe+BfGRHehUaf3+B4nt+gJ6aQgAAZjnXyT6sz9A5C7N+ZzquXn6b4FHx3tRCPFx4OMA3d3ddTytQqFQNAld1yM+/nP48X34n/88/uc/j4wshVIWUUrh+kKU+u6CzrntnyrG2um97AAhfgJ0jPHSp6SU368d8ylgO/AeOdmAwPbt2+XOnTtnMF2FQqFYIFzcB0ceg0sHwIpA51bY/B7wBWc8pBDiRSnlpKk3k3rsUspfmeREHwbeAbxlKkZdoVAofilo3+T9NIBZhWKEEG8D/gB4g5QyX58pKRQKhWI2zDYr5s+BMPDPQoiXhRBfrsOcFAqFQjELZuWxSynndgdAoVAoFNNGVZ4qFArFIkMZdoVCoVhkKMOuUCgUiwxl2BUKhWKRoQy7QqFQLDImrTydk5MK0QucnOGftwJ9dZxOI1FraT4WyzpAraVZmc1alkspk5Md1BDDPhuEEDunUlK7EFBraT4WyzpAraVZmY+1qFCMQqFQLDKUYVcoFIpFxkI07F9p9ATqiFpL87FY1gFqLc3KnK9lwcXYFQqFQjExC9FjVygUCsUENL1hF0LcJYTYJ4RwhRDj7iQLId4mhDgkhDgqhLhvPuc4VYQQCSHEPwshjtT+jY9zXLWmlvmyEOIH8z3P8ZjsPRZCWEKIR2uvPyeEWDH/s5waU1jLR4QQvaM+h99sxDwnQwjxVSHEJSHE3nFeF0KI/1Fb524hxLb5nuNUmcJa3iiESI36TP7zfM9xKgghlgkhHhdCHKjZrnvHOGZuPxcpZVP/ABuAdcDPge3jHKMDx4AewAe8Amxs9NzHmOd/Be6rPb4P+JNxjss2eq4zeY+Bfw98ufb4g8CjjZ73LNbyEeDPGz3XKazldmAbsHec198O/Aiv7ebNwHONnvMs1vJG4B8bPc8prKMT2FZ7HAYOj/H/a04/l6b32KWUB6SUk7X8vhE4KqU8LqUsA38DvHPuZzdt3gl8vfb468C7GjiX6TKV93j0+r4DvEUIIeZxjlNlofx/mRQp5S+AgQkOeSfwDenxLBATQnTOz+ymxxTWsiCQUp6XUr5Ue5wBDgBLrzhsTj+XpjfsU2QpcHrU72e4+o1sBtqllOfB+/CBtnGOs4UQO4UQzwohmsX4T+U9HjlGSukAKaBlXmY3Pab6/+W9tdvk7wghls3P1OrOQvluTJVbhBCvCCF+JIRoTN+5aVALR14HPHfFS3P6ucyq0Ua9mErD7MmGGOO5hqT7TLSWaQzTLaU8J4ToAX4mhNgjpTxWnxnOmKm8x03zOUzCVOb5D8C3pJQlIcRv4d2JvHnOZ1Z/FspnMhVewiupzwoh3g58D1jT4DmNixAiBPwd8AkpZfrKl8f4k7p9Lk1h2OUkDbOnwBlgtEfVBZyb5ZgzYqK1CCEuCiE6pZTna7ddl8YZ41zt3+NCiJ/jXfEbbdin8h4PH3NGCGEAUZrz1nrStUgp+0f9+j+BP5mHec0FTfPdmC2jjaOU8odCiC8KIVqllE2nISOEMPGM+jellN8d45A5/VwWSyjmBWCNEGKlEMKHt3HXNNkko/gB8OHa4w8DV92NCCHiQgir9rgVeB2wf95mOD5TeY9Hr+99wM9kbaeoyZh0LVfEO+/Ei5MuRH4A/JtaFsbNQGo4HLjQEEJ0DO/ZCCFuxLNf/RP/1fxTm+NfAgeklJ8d57C5/VwavYM8hR3md+Nd3UrAReCfas8vAX54xS7zYTzP9lONnvc4a2kBfgocqf2bqD2/Hfhftce3AnvwMjX2AB9t9Lwneo+BTwN31h7bwLeBo8DzQE+j5zyLtTwM7Kt9Do8D6xs953HW8S3gPFCpfU8+CvwW8Fu11wXwhdo69zBOZlkz/ExhLb8z6jN5Fri10XMeZx234YVVdgMv137ePp+fi6o8VSgUikXGYgnFKBQKhaKGMuwKhUKxyFCGXaFQKBYZyrArFArFIkMZdoVCoVhkKMOuUCgUiwxl2BUKhWKRoQy7QqFQLDL+f1XmsD8awS6qAAAAAElFTkSuQmCC\n",
=======
      "image/png": "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\n",
>>>>>>> 951d88b0e7c3ccd1c8ffe0e8f79533f056ea85a7
      "text/plain": [
       "<Figure size 432x288 with 1 Axes>"
      ]
     },
     "metadata": {
      "needs_background": "light"
     },
     "output_type": "display_data"
    }
   ],
   "source": [
    "# Show prediction\n",
    "x_test = x_test.flatten()\n",
    "plt.figure()\n",
    "plt.fill_between(x_test, mu - unc, mu + unc, color=(0.9,) * 3)\n",
    "plt.plot(x_test, mu)\n",
    "plt.plot(x_test, f(x_test))\n",
    "for y_samp_i in y_samp:\n",
    "    plt.plot(x_test, y_samp_i, color=(0.4, 0.7, 1.0), alpha=0.5)\n",
    "plt.plot(x, y, 'o')\n",
    "plt.show()"
   ]
  }
 ],
 "metadata": {
  "kernelspec": {
   "display_name": "gptorch",
   "language": "python",
   "name": "gptorch"
  },
  "language_info": {
   "codemirror_mode": {
    "name": "ipython",
    "version": 3
   },
   "file_extension": ".py",
   "mimetype": "text/x-python",
   "name": "python",
   "nbconvert_exporter": "python",
   "pygments_lexer": "ipython3",
   "version": "3.6.8"
  }
 },
 "nbformat": 4,
 "nbformat_minor": 2
}
